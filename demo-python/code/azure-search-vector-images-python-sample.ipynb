{
 "cells": [
  {
   "attachments": {},
   "cell_type": "markdown",
   "metadata": {},
   "source": [
    "# Azure Cognitive Search Vector Search Code Sample with Cognitive Services Florence Vision API for Images\n",
    "This code demonstrates how to use Azure Cognitive Search with Cognitive Services Florence Vision API and Azure Python SDK\n",
    "## Prerequisites\n",
    "To run the code, install the following packages. Please note that the `pip install azure-search-documents==11.4.0a20230509004` is currently using the Dev Feed. For instructions on how to connect to the dev feed, please visit [Azure-Python-SDK Azure Search Documents Dev Feed](https://dev.azure.com/azure-sdk/public/_artifacts/feed/azure-sdk-for-python/connect/pip). Note, that the Vision API for Vectorization of Images and Text is still in progress. We will update this sample to leverage the Vision Python SDK when it's available.\n",
    "\n",
    "Alternatively, feel free to use the python wheel located in the build folder. "
   ]
  },
  {
   "cell_type": "code",
   "execution_count": null,
   "metadata": {},
   "outputs": [],
   "source": [
    "# ! pip install ../build/azure_search_documents-11.4.0b4-py3-none-any.whl  \n",
    "! pip install azure-search-documents==11.4.0a20230509004  \n",
    "! pip install azure-storage-blob  \n",
    "! pip install requests  \n",
    "! pip install python-dotenv"
   ]
  },
  {
   "attachments": {},
   "cell_type": "markdown",
   "metadata": {},
   "source": [
    "## Import required libraries and environment variables"
   ]
  },
  {
   "cell_type": "code",
   "execution_count": 132,
   "metadata": {},
   "outputs": [],
   "source": [
    "# 1. Import libraries  \n",
    "import os  \n",
    "import json  \n",
    "import requests  \n",
    "from dotenv import load_dotenv  \n",
    "from azure.core.credentials import AzureKeyCredential  \n",
    "from azure.search.documents import SearchClient  \n",
    "from azure.search.documents.indexes import SearchIndexClient, SearchIndexerClient  \n",
    "from azure.search.documents.models import Vector  \n",
    "from azure.search.documents.indexes.models import (  \n",
    "    SearchIndex,  \n",
    "    SearchField,\n",
    "    SearchFieldDataType,  \n",
    "    SimpleField,\n",
    "    FieldMapping,\n",
    "    SearchableField,  \n",
    "    SearchIndex,  \n",
    "    VectorSearch,  \n",
    "    VectorSearchAlgorithmConfiguration,  \n",
    "    SearchIndexerDataContainer,  \n",
    "    SearchIndexer,  \n",
    "    SearchIndexerDataSourceConnection,  \n",
    "    InputFieldMappingEntry,  \n",
    "    OutputFieldMappingEntry,  \n",
    "    SearchIndexerSkillset,\n",
    "    CorsOptions,\n",
    "    IndexingParameters,\n",
    "    IndexerStatus,\n",
    "    SearchIndexerDataContainer, SearchIndex, SearchIndexer, SimpleField, SearchFieldDataType,\n",
    "    EntityRecognitionSkill, InputFieldMappingEntry, OutputFieldMappingEntry, SearchIndexerSkillset,\n",
    "    CorsOptions, IndexingSchedule, SearchableField, IndexingParameters, SearchIndexerDataSourceConnection\n",
    ")  \n",
    "from azure.search.documents.indexes.models import WebApiSkill  \n",
    "from azure.storage.blob import BlobServiceClient  \n",
    "from azure.search.documents.indexes import SearchIndexerClient  \n",
    "from azure.search.documents.indexes.models import (  \n",
    "    SearchIndexerDataContainer,  \n",
    "    SearchIndexerDataSourceConnection,  \n",
    ")  \n",
    "\n",
    "  \n",
    "load_dotenv()  \n",
    "service_endpoint = os.getenv(\"AZURE_SEARCH_SERVICE_ENDPOINT\")  \n",
    "index_name = os.getenv(\"AZURE_SEARCH_INDEX_NAME\")  \n",
    "key = os.getenv(\"AZURE_SEARCH_ADMIN_KEY\")  \n",
    "cogSvcsEndpoint = os.getenv(\"COGNITIVE_SERVICES_ENDPOINT\")  \n",
    "cogSvcsApiKey = os.getenv(\"COGNITIVE_SERVICES_API_KEY\")  \n",
    "blob_connection_string = os.getenv(\"BLOB_CONNECTION_STRING\")  \n",
    "container_name = os.getenv(\"BLOB_CONTAINER_NAME\")"
   ]
  },
  {
   "attachments": {},
   "cell_type": "markdown",
   "metadata": {},
   "source": [
    "# Connect to Blob Storage"
   ]
  },
  {
   "cell_type": "code",
   "execution_count": 133,
   "metadata": {},
   "outputs": [
    {
     "name": "stdout",
     "output_type": "stream",
     "text": [
      "First blob in container: 1012.png\n"
     ]
    }
   ],
   "source": [
    "# Connect to Blob Storage   \n",
    "blob_service_client = BlobServiceClient.from_connection_string(blob_connection_string)  \n",
    "container_client = blob_service_client.get_container_client(container_name)  \n",
    "blobs = container_client.list_blobs()  \n",
    "first_blob = next(blobs)  \n",
    "print(f\"First blob in container: {first_blob.name}\") "
   ]
  },
  {
   "attachments": {},
   "cell_type": "markdown",
   "metadata": {},
   "source": [
    "# Create a Data Source"
   ]
  },
  {
   "cell_type": "code",
   "execution_count": 134,
   "metadata": {},
   "outputs": [
    {
     "name": "stdout",
     "output_type": "stream",
     "text": [
      "Data source 'my-image-blob-storage' created or updated\n"
     ]
    }
   ],
   "source": [
    "def create_data_source():  \n",
    "    ds_client = SearchIndexerClient(service_endpoint, AzureKeyCredential(key))  \n",
    "    container = SearchIndexerDataContainer(name=container_name)  \n",
    "    data_source_connection = SearchIndexerDataSourceConnection(  \n",
    "        name=\"my-image-blob-storage\",  \n",
    "        type=\"azureblob\",  \n",
    "        connection_string=blob_connection_string,  \n",
    "        container=container  \n",
    "    )  \n",
    "    data_source = ds_client.create_or_update_data_source_connection(data_source_connection)  \n",
    "    return data_source  \n",
    "  \n",
    "data_source = create_data_source()  \n",
    "print(f\"Data source '{data_source.name}' created or updated\") "
   ]
  },
  {
   "attachments": {},
   "cell_type": "markdown",
   "metadata": {},
   "source": [
    "# Create Search Index"
   ]
  },
  {
   "cell_type": "code",
   "execution_count": 138,
   "metadata": {},
   "outputs": [],
   "source": [
    "def create_index():  \n",
    "    fields = [  \n",
    "        SimpleField(name=\"id\", type=SearchFieldDataType.String, key=True, sortable=True),  \n",
    "        SimpleField(name=\"imageUrl\", type=SearchFieldDataType.String, retrievable=True),  \n",
    "        SearchField(name=\"title\", type=SearchFieldDataType.String, searchable=True, retrievable=True),  \n",
    "        SearchField(  \n",
    "            name=\"imageVector\",  \n",
    "            type=SearchFieldDataType.Collection(SearchFieldDataType.Single),  \n",
    "            searchable=True,  \n",
    "            dimensions=1024,  \n",
    "            vector_search_configuration=\"my-vector-config\",  \n",
    "        ),  \n",
    "    ]  \n",
    "    cors_options = CorsOptions(allowed_origins=[\"*\"], max_age_in_seconds=60)  \n",
    "  \n",
    "    vector_search = VectorSearch(  \n",
    "        algorithm_configurations=[  \n",
    "            VectorSearchAlgorithmConfiguration(  \n",
    "                name=\"my-vector-config\",  \n",
    "                kind=\"hnsw\",  \n",
    "                hnsw_parameters={  \n",
    "                    \"m\": 4,  \n",
    "                    \"efConstruction\": 400,  \n",
    "                    \"efSearch\": 500,  \n",
    "                    \"metric\": \"cosine\",  \n",
    "                },  \n",
    "            )  \n",
    "        ],  \n",
    "    )  \n",
    "  \n",
    "    index = SearchIndex(  \n",
    "        name=index_name,  \n",
    "        fields=fields,  \n",
    "        cors_options=cors_options,  \n",
    "    )  \n",
    "    index_client = SearchIndexClient(service_endpoint, AzureKeyCredential(key))  \n",
    "    result = index_client.create_or_update_index(index)\n",
    "    return result  \n"
   ]
  },
  {
   "attachments": {},
   "cell_type": "markdown",
   "metadata": {},
   "source": [
    "# Create a Skillset"
   ]
  },
  {
   "cell_type": "code",
   "execution_count": 139,
   "metadata": {},
   "outputs": [],
   "source": [
    "def create_skillset():  \n",
    "    skillset_name = \"my-image-skillset\"  \n",
    "    skill_uri = \"https://image-embeddings-function-app.azurewebsites.net/api/GetImageEmbeddings\" \n",
    "    skill = WebApiSkill(  \n",
    "        uri=skill_uri,  \n",
    "        inputs=[InputFieldMappingEntry(name=\"imageUrl\", source=\"/document/imageUrl\")],  \n",
    "        outputs=[OutputFieldMappingEntry(name=\"vector\", target_name=\"imageVector\")],  \n",
    "    )  \n",
    "  \n",
    "    skillset = SearchIndexerSkillset(  \n",
    "        name=skillset_name,  \n",
    "        description=\"Skillset to extract image vector\",  \n",
    "        skills=[skill],  \n",
    "        cors_options=CorsOptions(allowed_origins=[\"*\"]),  \n",
    "    )  \n",
    "  \n",
    "    client = SearchIndexerClient(service_endpoint, AzureKeyCredential(key))  \n",
    "    client.create_skillset(skillset)  \n",
    "    return skillset  "
   ]
  },
  {
   "attachments": {},
   "cell_type": "markdown",
   "metadata": {},
   "source": [
    "# Create Indexer doing a field mapping from the output of the Web API skill to the imageVector field  "
   ]
  },
  {
   "cell_type": "code",
   "execution_count": 150,
   "metadata": {},
   "outputs": [
    {
     "name": "stderr",
     "output_type": "stream",
     "text": [
      "cors_options is not a known attribute of class <class 'azure.search.documents.indexes.models._models.SearchIndexerSkillset'> and will be ignored\n"
     ]
    },
    {
     "name": "stdout",
     "output_type": "stream",
     "text": [
      "Skillset is created\n"
     ]
    },
    {
     "name": "stderr",
     "output_type": "stream",
     "text": [
      "retrievable is not a known attribute of class <class 'azure.search.documents.indexes.models._index.SearchField'> and will be ignored\n"
     ]
    },
    {
     "name": "stdout",
     "output_type": "stream",
     "text": [
      "Data source is created\n",
      "Index is created\n"
     ]
    },
    {
     "ename": "TypeError",
     "evalue": "__init__() missing 1 required keyword-only argument: 'name'",
     "output_type": "error",
     "traceback": [
      "\u001b[1;31m---------------------------------------------------------------------------\u001b[0m",
      "\u001b[1;31mTypeError\u001b[0m                                 Traceback (most recent call last)",
      "\u001b[1;32mc:\\Dev\\cognitive-search-vector-pr\\demo-python\\code\\azure-search-vector-images-python-sample.ipynb Cell 14\u001b[0m in \u001b[0;36m<cell line: 34>\u001b[1;34m()\u001b[0m\n\u001b[0;32m     <a href='vscode-notebook-cell:/c%3A/Dev/cognitive-search-vector-pr/demo-python/code/azure-search-vector-images-python-sample.ipynb#X46sZmlsZQ%3D%3D?line=31'>32</a>\u001b[0m     indexer_status \u001b[39m=\u001b[39m indexer_client\u001b[39m.\u001b[39mget_indexer_status(indexer_name)  \n\u001b[0;32m     <a href='vscode-notebook-cell:/c%3A/Dev/cognitive-search-vector-pr/demo-python/code/azure-search-vector-images-python-sample.ipynb#X46sZmlsZQ%3D%3D?line=32'>33</a>\u001b[0m     \u001b[39mprint\u001b[39m(indexer_status)\n\u001b[1;32m---> <a href='vscode-notebook-cell:/c%3A/Dev/cognitive-search-vector-pr/demo-python/code/azure-search-vector-images-python-sample.ipynb#X46sZmlsZQ%3D%3D?line=33'>34</a>\u001b[0m sample_indexer_workflow()\n",
      "\u001b[1;32mc:\\Dev\\cognitive-search-vector-pr\\demo-python\\code\\azure-search-vector-images-python-sample.ipynb Cell 14\u001b[0m in \u001b[0;36msample_indexer_workflow\u001b[1;34m()\u001b[0m\n\u001b[0;32m      <a href='vscode-notebook-cell:/c%3A/Dev/cognitive-search-vector-pr/demo-python/code/azure-search-vector-images-python-sample.ipynb#X46sZmlsZQ%3D%3D?line=8'>9</a>\u001b[0m \u001b[39mprint\u001b[39m(\u001b[39m\"\u001b[39m\u001b[39mIndex is created\u001b[39m\u001b[39m\"\u001b[39m)  \n\u001b[0;32m     <a href='vscode-notebook-cell:/c%3A/Dev/cognitive-search-vector-pr/demo-python/code/azure-search-vector-images-python-sample.ipynb#X46sZmlsZQ%3D%3D?line=10'>11</a>\u001b[0m indexer_name \u001b[39m=\u001b[39m \u001b[39m\"\u001b[39m\u001b[39mmy-image-indexer\u001b[39m\u001b[39m\"\u001b[39m  \n\u001b[0;32m     <a href='vscode-notebook-cell:/c%3A/Dev/cognitive-search-vector-pr/demo-python/code/azure-search-vector-images-python-sample.ipynb#X46sZmlsZQ%3D%3D?line=11'>12</a>\u001b[0m indexer \u001b[39m=\u001b[39m SearchIndexer(  \n\u001b[0;32m     <a href='vscode-notebook-cell:/c%3A/Dev/cognitive-search-vector-pr/demo-python/code/azure-search-vector-images-python-sample.ipynb#X46sZmlsZQ%3D%3D?line=12'>13</a>\u001b[0m     name\u001b[39m=\u001b[39mindexer_name,  \n\u001b[0;32m     <a href='vscode-notebook-cell:/c%3A/Dev/cognitive-search-vector-pr/demo-python/code/azure-search-vector-images-python-sample.ipynb#X46sZmlsZQ%3D%3D?line=13'>14</a>\u001b[0m     data_source_name\u001b[39m=\u001b[39mds_name,  \n\u001b[0;32m     <a href='vscode-notebook-cell:/c%3A/Dev/cognitive-search-vector-pr/demo-python/code/azure-search-vector-images-python-sample.ipynb#X46sZmlsZQ%3D%3D?line=14'>15</a>\u001b[0m     target_index_name\u001b[39m=\u001b[39mind_name,  \n\u001b[0;32m     <a href='vscode-notebook-cell:/c%3A/Dev/cognitive-search-vector-pr/demo-python/code/azure-search-vector-images-python-sample.ipynb#X46sZmlsZQ%3D%3D?line=15'>16</a>\u001b[0m     skillset_name\u001b[39m=\u001b[39mskillset_name,  \n\u001b[0;32m     <a href='vscode-notebook-cell:/c%3A/Dev/cognitive-search-vector-pr/demo-python/code/azure-search-vector-images-python-sample.ipynb#X46sZmlsZQ%3D%3D?line=16'>17</a>\u001b[0m     field_mappings\u001b[39m=\u001b[39m[  \n\u001b[0;32m     <a href='vscode-notebook-cell:/c%3A/Dev/cognitive-search-vector-pr/demo-python/code/azure-search-vector-images-python-sample.ipynb#X46sZmlsZQ%3D%3D?line=17'>18</a>\u001b[0m         FieldMapping(source_field_name\u001b[39m=\u001b[39m\u001b[39m\"\u001b[39m\u001b[39mmetadata_storage_path\u001b[39m\u001b[39m\"\u001b[39m, target_field_name\u001b[39m=\u001b[39m\u001b[39m\"\u001b[39m\u001b[39mid\u001b[39m\u001b[39m\"\u001b[39m),  \n\u001b[0;32m     <a href='vscode-notebook-cell:/c%3A/Dev/cognitive-search-vector-pr/demo-python/code/azure-search-vector-images-python-sample.ipynb#X46sZmlsZQ%3D%3D?line=18'>19</a>\u001b[0m         FieldMapping(source_field_name\u001b[39m=\u001b[39m\u001b[39m\"\u001b[39m\u001b[39mmetadata_storage_name\u001b[39m\u001b[39m\"\u001b[39m, target_field_name\u001b[39m=\u001b[39m\u001b[39m\"\u001b[39m\u001b[39mtitle\u001b[39m\u001b[39m\"\u001b[39m),  \n\u001b[0;32m     <a href='vscode-notebook-cell:/c%3A/Dev/cognitive-search-vector-pr/demo-python/code/azure-search-vector-images-python-sample.ipynb#X46sZmlsZQ%3D%3D?line=19'>20</a>\u001b[0m     ],  \n\u001b[1;32m---> <a href='vscode-notebook-cell:/c%3A/Dev/cognitive-search-vector-pr/demo-python/code/azure-search-vector-images-python-sample.ipynb#X46sZmlsZQ%3D%3D?line=20'>21</a>\u001b[0m     output_field_mappings\u001b[39m=\u001b[39m[OutputFieldMappingEntry(source_field_name\u001b[39m=\u001b[39;49m\u001b[39m\"\u001b[39;49m\u001b[39m/document/vector\u001b[39;49m\u001b[39m\"\u001b[39;49m, target_field_name\u001b[39m=\u001b[39;49m\u001b[39m\"\u001b[39;49m\u001b[39mimageVector\u001b[39;49m\u001b[39m\"\u001b[39;49m)],\n\u001b[0;32m     <a href='vscode-notebook-cell:/c%3A/Dev/cognitive-search-vector-pr/demo-python/code/azure-search-vector-images-python-sample.ipynb#X46sZmlsZQ%3D%3D?line=21'>22</a>\u001b[0m )  \n\u001b[0;32m     <a href='vscode-notebook-cell:/c%3A/Dev/cognitive-search-vector-pr/demo-python/code/azure-search-vector-images-python-sample.ipynb#X46sZmlsZQ%3D%3D?line=23'>24</a>\u001b[0m indexer_client \u001b[39m=\u001b[39m SearchIndexerClient(service_endpoint, AzureKeyCredential(key))\n\u001b[0;32m     <a href='vscode-notebook-cell:/c%3A/Dev/cognitive-search-vector-pr/demo-python/code/azure-search-vector-images-python-sample.ipynb#X46sZmlsZQ%3D%3D?line=24'>25</a>\u001b[0m indexer_client\u001b[39m.\u001b[39mcreate_indexer(indexer)\n",
      "\u001b[1;31mTypeError\u001b[0m: __init__() missing 1 required keyword-only argument: 'name'"
     ]
    }
   ],
   "source": [
    "def sample_indexer_workflow():  \n",
    "    skillset_name = create_skillset().name  \n",
    "    print(\"Skillset is created\")  \n",
    "  \n",
    "    ds_name = create_data_source().name  \n",
    "    print(\"Data source is created\")  \n",
    "  \n",
    "    ind_name = create_index().name  \n",
    "    print(\"Index is created\")  \n",
    "  \n",
    "    indexer_name = \"my-image-indexer\"  \n",
    "    indexer = SearchIndexer(  \n",
    "        name=indexer_name,  \n",
    "        data_source_name=ds_name,  \n",
    "        target_index_name=ind_name,  \n",
    "        skillset_name=skillset_name,  \n",
    "        field_mappings=[  \n",
    "            FieldMapping(source_field_name=\"metadata_storage_path\", target_field_name=\"id\"),  \n",
    "            FieldMapping(source_field_name=\"metadata_storage_name\", target_field_name=\"title\"),  \n",
    "        ],  \n",
    "        output_field_mappings=[OutputFieldMappingEntry(source_field_name=\"/document/vector\", target_field_name=\"imageVector\")],\n",
    "    )  \n",
    "  \n",
    "    indexer_client = SearchIndexerClient(service_endpoint, AzureKeyCredential(key))\n",
    "    indexer_client.create_indexer(indexer)\n",
    "\n",
    "    result = indexer_client.get_indexer(indexer_name)  \n",
    "    print(result)  \n",
    "\n",
    "    indexer_client.run_indexer(result.name)  \n",
    "\n",
    "    indexer_status = indexer_client.get_indexer_status(indexer_name)  \n",
    "    print(indexer_status)\n",
    "sample_indexer_workflow()"
   ]
  },
  {
   "cell_type": "code",
   "execution_count": 111,
   "metadata": {},
   "outputs": [
    {
     "name": "stdout",
     "output_type": "stream",
     "text": [
      "Index python-vector-images-demo deleted\n"
     ]
    }
   ],
   "source": [
    "# Delete a search index\n",
    "index_client.delete_index(index_name)\n",
    "print(f'Index {index_name} deleted')\n"
   ]
  }
 ],
 "metadata": {
  "kernelspec": {
   "display_name": "Python 3",
   "language": "python",
   "name": "python3"
  },
  "language_info": {
   "codemirror_mode": {
    "name": "ipython",
    "version": 3
   },
   "file_extension": ".py",
   "mimetype": "text/x-python",
   "name": "python",
   "nbconvert_exporter": "python",
   "pygments_lexer": "ipython3",
   "version": "3.9.12"
  },
  "orig_nbformat": 4
 },
 "nbformat": 4,
 "nbformat_minor": 2
}
