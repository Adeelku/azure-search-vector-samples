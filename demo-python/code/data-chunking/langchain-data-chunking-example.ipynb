{
 "cells": [
  {
   "cell_type": "markdown",
   "metadata": {},
   "source": [
    "### Set up a Python virtual environment in Visual Studio Code\n",
    "\n",
    "1. Open the Command Palette (Ctrl+Shift+P).\n",
    "1. Search for **Python: Create Environment**.\n",
    "1. Select **Venv**.\n",
    "1. Select a Python interpreter. Choose 3.10 or later.\n",
    "\n",
    "It can take a minute to set up. If you run into problems, see [Python environments in VS Code](https://code.visualstudio.com/docs/python/environments)."
   ]
  },
  {
   "cell_type": "markdown",
   "metadata": {},
   "source": [
    "### Install packages"
   ]
  },
  {
   "cell_type": "code",
   "execution_count": null,
   "metadata": {},
   "outputs": [],
   "source": [
    "%pip install --quiet -r requirements.txt"
   ]
  },
  {
   "cell_type": "markdown",
   "metadata": {},
   "source": [
    "### Count pages in PDF\n",
    "\n",
    "You should get 200 pages from the sample PDF."
   ]
  },
  {
   "cell_type": "code",
   "execution_count": null,
   "metadata": {},
   "outputs": [],
   "source": [
    "from langchain_community.document_loaders import PyPDFLoader\n",
    " \n",
    "loader = PyPDFLoader(\"./../data/earth_at_night_508.pdf\")\n",
    "pages = loader.load()\n",
    "\n",
    "print(len(pages))"
   ]
  },
  {
   "cell_type": "markdown",
   "metadata": {},
   "source": [
    "### Count tokens in pages\n",
    "\n",
    "Expected token counts: `Min: 0`, `Avg: 189`, `Max: 1583`"
   ]
  },
  {
   "cell_type": "code",
   "execution_count": 3,
   "metadata": {},
   "outputs": [],
   "source": [
    "import tiktoken\n",
    "\n",
    "tokenizer = tiktoken.get_encoding('cl100k_base')\n",
    "def tiktoken_len(text):\n",
    "    tokens = tokenizer.encode(\n",
    "    text,\n",
    "    disallowed_special=()\n",
    ")\n",
    "    return len(tokens)\n",
    "tiktoken.encoding_for_model('gpt-3.5-turbo')\n",
    "\n",
    "token_counts = []\n",
    "for page in pages:\n",
    "    token_counts.append(tiktoken_len(page.page_content))\n",
    "min_token_count = min(token_counts)\n",
    "avg_token_count = int(sum(token_counts) / len(token_counts))\n",
    "max_token_count = max(token_counts)"
   ]
  },
  {
   "cell_type": "code",
   "execution_count": null,
   "metadata": {},
   "outputs": [],
   "source": [
    "print(f\"Min: {min_token_count}\")\n",
    "print(f\"Avg: {avg_token_count}\")\n",
    "print(f\"Max: {max_token_count}\")"
   ]
  },
  {
   "cell_type": "markdown",
   "metadata": {},
   "source": [
    "### Split text into chunks\n",
    "\n",
    "Knowing average and maximum token size gives you insight into setting chunk size. Although you could use the standard recommendation of 2000 characters with a 500 character overlap, you should go lower based on the token counts for the sample document. Too large of an overlap can result in no overlap at all."
   ]
  },
  {
   "cell_type": "code",
   "execution_count": 5,
   "metadata": {},
   "outputs": [
    {
     "name": "stdout",
     "output_type": "stream",
     "text": [
      "page_content='x Earth at NightForeword\\nNASA’s Earth at Night explores the brilliance of our planet when it is in darkness.  \\n  It is a compilation of stories depicting the interactions between science and \\nwonder, and I am pleased to share this visually stunning and captivating exploration of \\nour home planet.\\nFrom space, our Earth looks tranquil. The blue ethereal vastness of the oceans \\nharmoniously shares the space with verdant green land—an undercurrent of gentle-ness and solitude. But spending time gazing at the images presented in this book, our home planet at night instantly reveals a different reality. Beautiful, filled with glow-ing communities, natural wonders, and striking illumination, our world is bustling with activity and life.\\nDarkness is not void of illumination. It is the contrast, the area between light and' metadata={'source': './data/earth_at_night_508.pdf', 'page': 9}\n",
      "page_content='Darkness is not void of illumination. It is the contrast, the area between light and \\ndark, that is often the most illustrative. Darkness reminds me of where I came from and where I am now—from a small town in the mountains, to the unique vantage point of the Nation’s capital. Darkness is where dreamers and learners of all ages peer into the universe and think of questions about themselves and their space in the cosmos. Light is where they work, where they gather, and take time together.\\nNASA’s spacefaring satellites have compiled an unprecedented record of our \\nEarth, and its luminescence in darkness, to captivate and spark curiosity. These missions see the contrast between dark and light through the lenses of scientific instruments. Our home planet is full of complex and dynamic cycles and processes. These soaring observers show us new ways to discern the nuances of light created by natural and human-made sources, such as auroras, wildfires, cities, phytoplankton, and volcanoes.' metadata={'source': './data/earth_at_night_508.pdf', 'page': 9}\n"
     ]
    }
   ],
   "source": [
    "from langchain.text_splitter import RecursiveCharacterTextSplitter\n",
    "# split documents into text and embeddings\n",
    "\n",
    "text_splitter = RecursiveCharacterTextSplitter(\n",
    "   chunk_size=1000, \n",
    "   chunk_overlap=200,\n",
    "   length_function=len,\n",
    "   is_separator_regex=False\n",
    ")\n",
    "\n",
    "chunks = text_splitter.split_documents(pages)\n",
    "print(chunks[20])\n",
    "print(chunks[21])"
   ]
  }
 ],
 "metadata": {
  "kernelspec": {
   "display_name": "Python 3",
   "language": "python",
   "name": "python3"
  },
  "language_info": {
   "codemirror_mode": {
    "name": "ipython",
    "version": 3
   },
   "file_extension": ".py",
   "mimetype": "text/x-python",
   "name": "python",
   "nbconvert_exporter": "python",
   "pygments_lexer": "ipython3",
   "version": "3.11.3"
  }
 },
 "nbformat": 4,
 "nbformat_minor": 2
}
