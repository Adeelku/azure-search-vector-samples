{
 "cells": [
  {
   "cell_type": "code",
   "execution_count": null,
   "metadata": {},
   "outputs": [],
   "source": [
    "! pip install azure-search-documents==11.4.0a20230509004\n",
    "! pip install openai\n",
    "! pip install python-dotenv\n",
    "! pip install azure-storage-blob"
   ]
  },
  {
   "cell_type": "code",
   "execution_count": 15,
   "metadata": {},
   "outputs": [],
   "source": [
    "import os\n",
    "import time\n",
    "from dotenv import load_dotenv\n",
    "import requests\n",
    "import openai\n",
    "import os\n",
    "import re\n",
    "import logging\n",
    "from azure.core.credentials import AzureKeyCredential\n",
    "from azure.storage.blob import BlobServiceClient\n",
    "from azure.core.exceptions import ResourceNotFoundError\n",
    "from azure.search.documents.models import Vector  \n",
    "from azure.search.documents import SearchClient  \n",
    "from azure.search.documents.indexes import SearchIndexClient, SearchIndexerClient\n",
    "from azure.search.documents.indexes.models import (\n",
    "    SimpleField,\n",
    "    SearchField,\n",
    "    SearchableField,\n",
    "    SearchFieldDataType,\n",
    "    SearchIndexer,\n",
    "    IndexingParameters,\n",
    "    FieldMapping,\n",
    "    FieldMappingFunction,\n",
    "    InputFieldMappingEntry, \n",
    "    OutputFieldMappingEntry, \n",
    "    SearchIndexerSkillset,\n",
    "    SearchIndexerKnowledgeStore,\n",
    "    SearchIndexerKnowledgeStoreProjection,\n",
    "    SearchIndexerKnowledgeStoreFileProjectionSelector,\n",
    "    IndexingParameters, \n",
    "    WebApiSkill,\n",
    "    SearchIndex,\n",
    "    SemanticSettings,\n",
    "    SemanticConfiguration,\n",
    "    PrioritizedFields,\n",
    "    SemanticField,\n",
    "    SearchIndexerDataSourceConnection,  \n",
    "    SearchIndexerDataContainer,\n",
    "    VectorSearch,  \n",
    "    VectorSearchAlgorithmConfiguration,\n",
    "    SearchIndexerDataContainer, SearchIndex, SearchIndexer, SimpleField, SearchFieldDataType,\n",
    "    EntityRecognitionSkill, InputFieldMappingEntry, OutputFieldMappingEntry, SearchIndexerSkillset,\n",
    "    CorsOptions, IndexingSchedule, SearchableField, IndexingParameters, SearchIndexerDataSourceConnection,\n",
    "    DocumentExtractionSkill, DocumentExtractionSkill\n",
    ")\n",
    "\n",
    "# Configure environment variables  \n",
    "load_dotenv()  \n",
    "service_endpoint = os.getenv(\"AZURE_SEARCH_SERVICE_ENDPOINT\")  \n",
    "index_name = \"python-chunk\"\n",
    "key = os.getenv(\"AZURE_SEARCH_ADMIN_KEY\")  \n",
    "openai.api_type = \"azure\"  \n",
    "openai.api_key = os.getenv(\"AZURE_OPENAI_API_KEY\")  \n",
    "openai.api_base = os.getenv(\"AZURE_OPENAI_ENDPOINT\")  \n",
    "openai.api_version = os.getenv(\"AZURE_OPENAI_API_VERSION\") \n",
    "blob_connection_string = os.getenv(\"BLOB_CONNECTION_STRING\")  \n",
    "container_name = \"spe\"\n",
    "credential = AzureKeyCredential(key)"
   ]
  },
  {
   "cell_type": "code",
   "execution_count": 7,
   "metadata": {},
   "outputs": [
    {
     "name": "stdout",
     "output_type": "stream",
     "text": [
      "URL of the first blob: https://fsunavalastorage.blob.core.windows.net/spe/Chevron%20frac%20containment%20and%20broaching%20wcd.pdf\n"
     ]
    }
   ],
   "source": [
    "# Connect to Blob Storage\n",
    "blob_service_client = BlobServiceClient.from_connection_string(blob_connection_string)\n",
    "container_client = blob_service_client.get_container_client(container_name)\n",
    "blobs = container_client.list_blobs()\n",
    "\n",
    "first_blob = next(blobs)\n",
    "blob_url = container_client.get_blob_client(first_blob).url\n",
    "print(f\"URL of the first blob: {blob_url}\")"
   ]
  },
  {
   "cell_type": "code",
   "execution_count": 8,
   "metadata": {},
   "outputs": [
    {
     "name": "stdout",
     "output_type": "stream",
     "text": [
      "Data source 'python-chunk-blob' created or updated\n"
     ]
    }
   ],
   "source": [
    "# Create a data source \n",
    "ds_client = SearchIndexerClient(service_endpoint, AzureKeyCredential(key))\n",
    "container = SearchIndexerDataContainer(name=container_name)\n",
    "data_source_connection = SearchIndexerDataSourceConnection(\n",
    "    name=f\"{index_name}-blob\",\n",
    "    type=\"azureblob\",\n",
    "    connection_string=blob_connection_string,\n",
    "    container=container\n",
    ")\n",
    "data_source = ds_client.create_or_update_data_source_connection(data_source_connection)\n",
    "\n",
    "print(f\"Data source '{data_source.name}' created or updated\")"
   ]
  },
  {
   "cell_type": "code",
   "execution_count": 11,
   "metadata": {},
   "outputs": [
    {
     "name": "stdout",
     "output_type": "stream",
     "text": [
      " python-chunk-index created\n"
     ]
    }
   ],
   "source": [
    "# Create a search index\n",
    "index_client = SearchIndexClient(\n",
    "    endpoint=service_endpoint, credential=credential)\n",
    "fields = [\n",
    "    SimpleField(name=\"id\", type=SearchFieldDataType.String, key=True, sortable=True),  \n",
    "    SimpleField(name=\"url\", type=SearchFieldDataType.String, retrievable=True),  \n",
    "    SearchableField(name=\"title\", type=SearchFieldDataType.String, searchable=True, retrievable=True),  \n",
    "    SearchableField(name=\"content\", type=SearchFieldDataType.String, searchable=True, retrievable=True),  \n",
    "    SearchField(  \n",
    "        name=\"contentVector\",  \n",
    "        type=SearchFieldDataType.Collection(SearchFieldDataType.Single),  \n",
    "        searchable=True,  \n",
    "        dimensions=1536,  \n",
    "        vector_search_configuration=\"my-vector-config\",  \n",
    "    ),  \n",
    "]\n",
    "\n",
    "vector_search = VectorSearch(\n",
    "    algorithm_configurations=[\n",
    "        VectorSearchAlgorithmConfiguration(\n",
    "            name=\"my-vector-config\",\n",
    "            kind=\"hnsw\",\n",
    "            hnsw_parameters={\n",
    "                \"m\": 4,\n",
    "                \"efConstruction\": 400,\n",
    "                \"efSearch\": 1000,\n",
    "                \"metric\": \"cosine\"\n",
    "            }\n",
    "        )\n",
    "    ]\n",
    ")\n",
    "\n",
    "\n",
    "# Create the search index \n",
    "index = SearchIndex(name=f\"{index_name}-index\", fields=fields, vector_search=vector_search,)\n",
    "result = index_client.create_or_update_index(index)\n",
    "print(f' {result.name} created')\n"
   ]
  },
  {
   "cell_type": "code",
   "execution_count": 22,
   "metadata": {},
   "outputs": [
    {
     "ename": "HttpResponseError",
     "evalue": "() Enricher definitions create a cyclic dependency\nCode: \nMessage: Enricher definitions create a cyclic dependency",
     "output_type": "error",
     "traceback": [
      "\u001b[1;31m---------------------------------------------------------------------------\u001b[0m",
      "\u001b[1;31mHttpResponseError\u001b[0m                         Traceback (most recent call last)",
      "\u001b[1;32mc:\\Dev\\cognitive-search-vector-pr\\demo-python\\code\\azure-search-vector-chunking-python-sample.ipynb Cell 6\u001b[0m in \u001b[0;36m<cell line: 21>\u001b[1;34m()\u001b[0m\n\u001b[0;32m     <a href='vscode-notebook-cell:/c%3A/Dev/cognitive-search-vector-pr/demo-python/code/azure-search-vector-chunking-python-sample.ipynb#W6sZmlsZQ%3D%3D?line=13'>14</a>\u001b[0m skillset \u001b[39m=\u001b[39m SearchIndexerSkillset(  \n\u001b[0;32m     <a href='vscode-notebook-cell:/c%3A/Dev/cognitive-search-vector-pr/demo-python/code/azure-search-vector-chunking-python-sample.ipynb#W6sZmlsZQ%3D%3D?line=14'>15</a>\u001b[0m     name\u001b[39m=\u001b[39mskillset_name,  \n\u001b[0;32m     <a href='vscode-notebook-cell:/c%3A/Dev/cognitive-search-vector-pr/demo-python/code/azure-search-vector-chunking-python-sample.ipynb#W6sZmlsZQ%3D%3D?line=15'>16</a>\u001b[0m     description\u001b[39m=\u001b[39m\u001b[39m\"\u001b[39m\u001b[39mSkillset to process PDF files\u001b[39m\u001b[39m\"\u001b[39m,  \n\u001b[0;32m     <a href='vscode-notebook-cell:/c%3A/Dev/cognitive-search-vector-pr/demo-python/code/azure-search-vector-chunking-python-sample.ipynb#W6sZmlsZQ%3D%3D?line=16'>17</a>\u001b[0m     skills\u001b[39m=\u001b[39m[pdf_cracker_skill],  \n\u001b[0;32m     <a href='vscode-notebook-cell:/c%3A/Dev/cognitive-search-vector-pr/demo-python/code/azure-search-vector-chunking-python-sample.ipynb#W6sZmlsZQ%3D%3D?line=17'>18</a>\u001b[0m )  \n\u001b[0;32m     <a href='vscode-notebook-cell:/c%3A/Dev/cognitive-search-vector-pr/demo-python/code/azure-search-vector-chunking-python-sample.ipynb#W6sZmlsZQ%3D%3D?line=19'>20</a>\u001b[0m skillset_client \u001b[39m=\u001b[39m SearchIndexerClient(service_endpoint, AzureKeyCredential(key))  \n\u001b[1;32m---> <a href='vscode-notebook-cell:/c%3A/Dev/cognitive-search-vector-pr/demo-python/code/azure-search-vector-chunking-python-sample.ipynb#W6sZmlsZQ%3D%3D?line=20'>21</a>\u001b[0m skillset_result \u001b[39m=\u001b[39m skillset_client\u001b[39m.\u001b[39;49mcreate_or_update_skillset(skillset)  \n\u001b[0;32m     <a href='vscode-notebook-cell:/c%3A/Dev/cognitive-search-vector-pr/demo-python/code/azure-search-vector-chunking-python-sample.ipynb#W6sZmlsZQ%3D%3D?line=21'>22</a>\u001b[0m \u001b[39mprint\u001b[39m(\u001b[39mf\u001b[39m\u001b[39m'\u001b[39m\u001b[39mSkillset \u001b[39m\u001b[39m{\u001b[39;00mskillset_name\u001b[39m}\u001b[39;00m\u001b[39m created\u001b[39m\u001b[39m'\u001b[39m)\n",
      "File \u001b[1;32mc:\\Users\\fsunavala\\AppData\\Local\\Programs\\Python\\Python39\\lib\\site-packages\\azure\\core\\tracing\\decorator.py:78\u001b[0m, in \u001b[0;36mdistributed_trace.<locals>.decorator.<locals>.wrapper_use_tracer\u001b[1;34m(*args, **kwargs)\u001b[0m\n\u001b[0;32m     76\u001b[0m span_impl_type \u001b[39m=\u001b[39m settings\u001b[39m.\u001b[39mtracing_implementation()\n\u001b[0;32m     77\u001b[0m \u001b[39mif\u001b[39;00m span_impl_type \u001b[39mis\u001b[39;00m \u001b[39mNone\u001b[39;00m:\n\u001b[1;32m---> 78\u001b[0m     \u001b[39mreturn\u001b[39;00m func(\u001b[39m*\u001b[39margs, \u001b[39m*\u001b[39m\u001b[39m*\u001b[39mkwargs)\n\u001b[0;32m     80\u001b[0m \u001b[39m# Merge span is parameter is set, but only if no explicit parent are passed\u001b[39;00m\n\u001b[0;32m     81\u001b[0m \u001b[39mif\u001b[39;00m merge_span \u001b[39mand\u001b[39;00m \u001b[39mnot\u001b[39;00m passed_in_parent:\n",
      "File \u001b[1;32mc:\\Users\\fsunavala\\AppData\\Local\\Programs\\Python\\Python39\\lib\\site-packages\\azure\\search\\documents\\indexes\\_search_indexer_client.py:665\u001b[0m, in \u001b[0;36mSearchIndexerClient.create_or_update_skillset\u001b[1;34m(self, skillset, match_condition, **kwargs)\u001b[0m\n\u001b[0;32m    662\u001b[0m _validate_skillset(skillset)\n\u001b[0;32m    663\u001b[0m skillset \u001b[39m=\u001b[39m skillset\u001b[39m.\u001b[39m_to_generated() \u001b[39mif\u001b[39;00m \u001b[39mhasattr\u001b[39m(skillset, \u001b[39m'\u001b[39m\u001b[39m_to_generated\u001b[39m\u001b[39m'\u001b[39m) \u001b[39melse\u001b[39;00m skillset  \u001b[39m# pylint:disable=protected-access\u001b[39;00m\n\u001b[1;32m--> 665\u001b[0m result \u001b[39m=\u001b[39m \u001b[39mself\u001b[39m\u001b[39m.\u001b[39m_client\u001b[39m.\u001b[39mskillsets\u001b[39m.\u001b[39mcreate_or_update(\n\u001b[0;32m    666\u001b[0m     skillset_name\u001b[39m=\u001b[39mskillset\u001b[39m.\u001b[39mname,\n\u001b[0;32m    667\u001b[0m     skillset\u001b[39m=\u001b[39mskillset,\n\u001b[0;32m    668\u001b[0m     prefer\u001b[39m=\u001b[39m\u001b[39m\"\u001b[39m\u001b[39mreturn=representation\u001b[39m\u001b[39m\"\u001b[39m,\n\u001b[0;32m    669\u001b[0m     error_map\u001b[39m=\u001b[39merror_map,\n\u001b[0;32m    670\u001b[0m     \u001b[39m*\u001b[39m\u001b[39m*\u001b[39mkwargs\n\u001b[0;32m    671\u001b[0m )\n\u001b[0;32m    672\u001b[0m \u001b[39mreturn\u001b[39;00m SearchIndexerSkillset\u001b[39m.\u001b[39m_from_generated(result)\n",
      "File \u001b[1;32mc:\\Users\\fsunavala\\AppData\\Local\\Programs\\Python\\Python39\\lib\\site-packages\\azure\\core\\tracing\\decorator.py:78\u001b[0m, in \u001b[0;36mdistributed_trace.<locals>.decorator.<locals>.wrapper_use_tracer\u001b[1;34m(*args, **kwargs)\u001b[0m\n\u001b[0;32m     76\u001b[0m span_impl_type \u001b[39m=\u001b[39m settings\u001b[39m.\u001b[39mtracing_implementation()\n\u001b[0;32m     77\u001b[0m \u001b[39mif\u001b[39;00m span_impl_type \u001b[39mis\u001b[39;00m \u001b[39mNone\u001b[39;00m:\n\u001b[1;32m---> 78\u001b[0m     \u001b[39mreturn\u001b[39;00m func(\u001b[39m*\u001b[39margs, \u001b[39m*\u001b[39m\u001b[39m*\u001b[39mkwargs)\n\u001b[0;32m     80\u001b[0m \u001b[39m# Merge span is parameter is set, but only if no explicit parent are passed\u001b[39;00m\n\u001b[0;32m     81\u001b[0m \u001b[39mif\u001b[39;00m merge_span \u001b[39mand\u001b[39;00m \u001b[39mnot\u001b[39;00m passed_in_parent:\n",
      "File \u001b[1;32mc:\\Users\\fsunavala\\AppData\\Local\\Programs\\Python\\Python39\\lib\\site-packages\\azure\\search\\documents\\indexes\\_generated\\operations\\_skillsets_operations.py:459\u001b[0m, in \u001b[0;36mSkillsetsOperations.create_or_update\u001b[1;34m(self, skillset_name, prefer, skillset, if_match, if_none_match, skip_indexer_reset_requirement_for_cache, disable_cache_reprocessing_change_detection, request_options, **kwargs)\u001b[0m\n\u001b[0;32m    457\u001b[0m     map_error(status_code\u001b[39m=\u001b[39mresponse\u001b[39m.\u001b[39mstatus_code, response\u001b[39m=\u001b[39mresponse, error_map\u001b[39m=\u001b[39merror_map)\n\u001b[0;32m    458\u001b[0m     error \u001b[39m=\u001b[39m \u001b[39mself\u001b[39m\u001b[39m.\u001b[39m_deserialize\u001b[39m.\u001b[39mfailsafe_deserialize(_models\u001b[39m.\u001b[39mSearchError, pipeline_response)\n\u001b[1;32m--> 459\u001b[0m     \u001b[39mraise\u001b[39;00m HttpResponseError(response\u001b[39m=\u001b[39mresponse, model\u001b[39m=\u001b[39merror)\n\u001b[0;32m    461\u001b[0m \u001b[39mif\u001b[39;00m response\u001b[39m.\u001b[39mstatus_code \u001b[39m==\u001b[39m \u001b[39m200\u001b[39m:\n\u001b[0;32m    462\u001b[0m     deserialized \u001b[39m=\u001b[39m \u001b[39mself\u001b[39m\u001b[39m.\u001b[39m_deserialize(\u001b[39m\"\u001b[39m\u001b[39mSearchIndexerSkillset\u001b[39m\u001b[39m\"\u001b[39m, pipeline_response)\n",
      "\u001b[1;31mHttpResponseError\u001b[0m: () Enricher definitions create a cyclic dependency\nCode: \nMessage: Enricher definitions create a cyclic dependency"
     ]
    }
   ],
   "source": [
    "# Create a skillset  \n",
    "skillset_name = f\"{index_name}-skillset\"  \n",
    "  \n",
    "# Add a document cracker skill for PDFs  \n",
    "pdf_cracker_skill = DocumentExtractionSkill(  \n",
    "    inputs=[  \n",
    "        InputFieldMappingEntry(name=\"file_data\", source=\"/document/content\")  \n",
    "    ],  \n",
    "    outputs=[  \n",
    "        OutputFieldMappingEntry(name=\"text\", target_name=\"content\")  \n",
    "    ]  \n",
    ")  \n",
    "  \n",
    "skillset = SearchIndexerSkillset(  \n",
    "    name=skillset_name,  \n",
    "    description=\"Skillset to process PDF files\",  \n",
    "    skills=[pdf_cracker_skill],  \n",
    ")  \n",
    "  \n",
    "skillset_client = SearchIndexerClient(service_endpoint, AzureKeyCredential(key))  \n",
    "skillset_result = skillset_client.create_or_update_skillset(skillset)  \n",
    "print(f'Skillset {skillset_name} created')  \n",
    "  "
   ]
  },
  {
   "cell_type": "code",
   "execution_count": null,
   "metadata": {},
   "outputs": [],
   "source": [
    "# Create an indexer  \n",
    "indexer_name = f\"{index_name}-indexer\"  \n",
    "indexer = SearchIndexer(  \n",
    "    name=indexer_name,  \n",
    "    description=\"Indexer to process PDFs\",  \n",
    "    skillset_name=skillset_name,  \n",
    "    target_index_name=index_name,  \n",
    "    data_source_name=data_source.name,  \n",
    "    field_mappings=[  \n",
    "        FieldMapping(source_field_name=\"metadata_storage_path\", target_field_name=\"url\"),  \n",
    "        FieldMapping(source_field_name=\"metadata_storage_name\", target_field_name=\"title\")  \n",
    "    ],  \n",
    "    output_field_mappings=[  \n",
    "        FieldMapping(source_field_name=\"/document/content\", target_field_name=\"content\")  \n",
    "    ]  \n",
    ")  \n",
    "  \n",
    "indexer_client = SearchIndexerClient(service_endpoint, AzureKeyCredential(key))  \n",
    "indexer_result = indexer_client.create_or_update_indexer(indexer)  \n",
    "  \n",
    "# Run the indexer  \n",
    "indexer_client.run_indexer(indexer_name)  \n",
    "print(f' {indexer_name} created')  "
   ]
  }
 ],
 "metadata": {
  "kernelspec": {
   "display_name": "Python 3",
   "language": "python",
   "name": "python3"
  },
  "language_info": {
   "codemirror_mode": {
    "name": "ipython",
    "version": 3
   },
   "file_extension": ".py",
   "mimetype": "text/x-python",
   "name": "python",
   "nbconvert_exporter": "python",
   "pygments_lexer": "ipython3",
   "version": "3.9.12"
  },
  "orig_nbformat": 4
 },
 "nbformat": 4,
 "nbformat_minor": 2
}
