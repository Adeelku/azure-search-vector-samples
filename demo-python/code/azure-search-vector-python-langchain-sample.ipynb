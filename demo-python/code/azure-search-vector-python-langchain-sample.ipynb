{
 "cells": [
  {
   "attachments": {},
   "cell_type": "markdown",
   "metadata": {},
   "source": [
    "# Azure Cognitive Search LangChain Vector Code Sample\n",
    "This code demonstrates how to use Azure Cognitive Search with OpenAI and the Azure Cognitive Search LangChain Vector Store\n",
    "To run the code, install the following packages. Please use the latest pre-release version `pip install azure-search-documents --pre`."
   ]
  },
  {
   "cell_type": "code",
   "execution_count": null,
   "metadata": {},
   "outputs": [],
   "source": [
    "! pip install azure-search-documents==11.4.0b6\n",
    "! pip install openai\n",
    "! pip install python-dotenv\n",
    "! pip install azure-identity\n",
    "! pip install langchain"
   ]
  },
  {
   "attachments": {},
   "cell_type": "markdown",
   "metadata": {},
   "source": [
    "## Import required libraries and environment variables"
   ]
  },
  {
   "cell_type": "code",
   "execution_count": 2,
   "metadata": {},
   "outputs": [],
   "source": [
    "# Import required libraries  \n",
    "import openai\n",
    "import os  \n",
    "from dotenv import load_dotenv\n",
    "from langchain.embeddings.openai import OpenAIEmbeddings\n",
    "from langchain.vectorstores.azuresearch import AzureSearch\n"
   ]
  },
  {
   "cell_type": "markdown",
   "metadata": {},
   "source": [
    "## Configure OpenAI Settings"
   ]
  },
  {
   "cell_type": "code",
   "execution_count": 3,
   "metadata": {},
   "outputs": [],
   "source": [
    "# Configure environment variables  \n",
    "load_dotenv()  \n",
    "openai.api_type: str = \"azure\"  \n",
    "openai.api_key = os.getenv(\"AZURE_OPENAI_API_KEY\")  \n",
    "openai.api_base = os.getenv(\"AZURE_OPENAI_ENDPOINT\")  \n",
    "openai.api_version = os.getenv(\"AZURE_OPENAI_API_VERSION\")  \n",
    "model: str = \"text-embedding-ada-002\"\n",
    "engine: str = \"text-embedding-ada-002\""
   ]
  },
  {
   "cell_type": "markdown",
   "metadata": {},
   "source": [
    "## Configure Vector Store Settings"
   ]
  },
  {
   "cell_type": "code",
   "execution_count": 4,
   "metadata": {},
   "outputs": [],
   "source": [
    "vector_store_address: str = os.getenv(\"AZURE_SEARCH_SERVICE_ENDPOINT\")  \n",
    "vector_store_password: str = os.getenv(\"AZURE_SEARCH_ADMIN_KEY\") \n",
    "index_name: str = \"langchain-vector-demo\""
   ]
  },
  {
   "attachments": {},
   "cell_type": "markdown",
   "metadata": {},
   "source": [
    "## Create embeddings and vector store instances\n",
    "Read your data, generate OpenAI embeddings and export to a format to insert your Azure Cognitive Search index:"
   ]
  },
  {
   "cell_type": "code",
   "execution_count": 5,
   "metadata": {},
   "outputs": [],
   "source": [
    "engine: str = \"text-embedding-ada-002\"\n",
    "embeddings: OpenAIEmbeddings = OpenAIEmbeddings(deployment=model, model=model, chunk_size=1, openai_api_base=\"https://delegenz-openai.openai.azure.com/\", openai_api_type=\"azure\" )\n",
    "index_name: str = \"langchain-vector-demo\"\n",
    "vector_store: AzureSearch = AzureSearch(\n",
    "    azure_search_endpoint=vector_store_address,\n",
    "    azure_search_key=vector_store_password,\n",
    "    index_name=index_name,\n",
    "    embedding_function=embeddings.embed_query,\n",
    ")"
   ]
  },
  {
   "cell_type": "markdown",
   "metadata": {},
   "source": [
    "## Insert text and embeddings into vector store"
   ]
  },
  {
   "cell_type": "code",
   "execution_count": 6,
   "metadata": {},
   "outputs": [
    {
     "data": {
      "text/plain": [
       "['ZGRiMGUxZDEtNTRjYS00M2EyLWIxNGYtZjQ3MTdkM2NkNDFi',\n",
       " 'YTYxMGI2YjMtYWQxMS00NGQxLTk5N2EtOGQ1OTM1YWQ0MGUz',\n",
       " 'OTM0OWU4ZTUtOTg2MS00ZjhmLWE1MzktZGY5YzZjNDdiZWFk',\n",
       " 'ZjVlYzBiMzQtNzExMi00YzI0LTgxY2MtZDQ5YWYzMWY1NzQx',\n",
       " 'Y2FlYTc0MGMtNTc2Yi00YzExLWFmZjktYjY2YjdhNmIxNDhl',\n",
       " 'NjgxYTgzYzYtZGJhMC00MTEwLWExN2QtNDc2NmZmYTQ3NDg0',\n",
       " 'MzU1NGMyZjAtYTFhMS00MGNmLTk0MWEtNWYwMWUzNmU0ZjFj',\n",
       " 'MGY3YzIyYjMtMTNiYy00ZWRkLTllZmYtMzIyMGYxYzg0ZmNj',\n",
       " 'OGZmYTA3NTItNzk2Mi00ZWE0LTliYzctOTBjNjMxMmUxYmJi',\n",
       " 'YTgyZjg1ZDItMzM1OC00YWYwLWE3YTYtM2NmYTk4YjUwZmZi',\n",
       " 'M2Q1ZDI2ZjUtN2Y1Mi00MjI4LWE1ZjEtNTdhM2VmZGUzNjA2',\n",
       " 'ZTUyMjM3MzQtOGZkNC00Y2ExLTg0ZGItYmM0ZTQ2MWYyNjI4',\n",
       " 'ZmI2MDhiN2ItYjUwMy00YjQ5LWEzMmMtYzJhMzc3MGViZjg2',\n",
       " 'ZTRhODBjZTctZDBhZC00NjlhLTg1OGUtNjg5ZTg3ZDVmMGUz',\n",
       " 'MTliOWQ3NjEtZTczYy00MjA2LTg3ZTYtMDVjYjdiMTA5ZWM4',\n",
       " 'YTAxODhmZWItY2YxYS00MGZlLTkxYjYtNjViMDhhMGNkODFm',\n",
       " 'ODYyN2RmY2EtNmYzZC00N2VkLWE2NzUtNmZjZmNmOTdiYmRl',\n",
       " 'OGI2YTYwNmQtNmNhMi00NzdkLTkzMDktNTViMTU0YTkwYzhm',\n",
       " 'MjkyMjg3OGItZjU3Yi00YzNkLTk3ZWMtMDUyMjAwNTkxNjdm',\n",
       " 'MWVkOGE1Y2YtZmNmZi00YWE4LWI3ZGYtMWM2OTI4ZDU0YTNm',\n",
       " 'YzlhMTVhMzctMDk0Zi00ZWJiLWFhNTctNWE2ZDRmMWNhNzJm',\n",
       " 'OWY5NzI5ODItNDg5ZC00MGI0LWJkZTQtYzc3MTliMDI1ZjJm',\n",
       " 'MTY0ZjRjOTQtYjRlOC00MjQyLThkMTEtY2Q0NTlhMGZjMDQz',\n",
       " 'OTJhZTZiZWYtZDMxNC00OWM5LThjOTctNTk0Zjg2ODUwNWFl',\n",
       " 'YzJjNGE3NWItODIzNC00NDgwLTgzNWMtZGVlNmM4YzhmNTRi',\n",
       " 'ODdjZmY3ZTktMjUxMS00NTE2LThhOTQtNTBjNzFmNjU3ZDIz',\n",
       " 'NTg0MjlhNzQtN2QxMy00ZmQ5LWI0YWMtZTViNDYxZGM0ZTZl',\n",
       " 'YWU5Yjg3YzAtMmQxMy00NzdiLWE1MjQtMjkwMmU0N2EyZGY5',\n",
       " 'Mjc5NDg0OTgtZGM0Yi00ZWQ4LThhNmEtOWFmOGNjNWE0Y2Uy',\n",
       " 'Y2FhMjRjMWMtNGNmMy00ZTU0LWExMWMtYmRhNTc1Mzk3YmUy',\n",
       " 'MmE1ZDNhYWUtZGNlYS00ZWYwLWE0ODYtN2EzM2RhYTlmOTIw',\n",
       " 'NTljYjA0OGEtOWQ1Yy00MWRiLWEyZDEtOTdlN2JhMTFiZGIx',\n",
       " 'YzQ5ZDAwZDEtNDZiYS00NDlmLTk1NDYtOTg1M2IxOWRmMjA3',\n",
       " 'MGQyODk2MWQtYjQ4OC00M2M0LWIyMDUtMDZkYjVkYzkwMzgz',\n",
       " 'NDllYjJlNzEtODVlZS00MGVmLTlkMTYtZTU4Mzc1ZTMxZGY3',\n",
       " 'M2QzMjA3OWYtOTg0MC00NzJhLWE1NGUtMDA0NzFhNDFjODQ4',\n",
       " 'MWVhMGNhMTYtNWIxZS00NTBlLWIzM2YtZGE3ZGFlNzcxMWQ0',\n",
       " 'NGI0NmRlYTUtOGE0ZC00NGI1LTg1NTctZGI5NmNlYzY4MDJj',\n",
       " 'NDgzNDVhZmQtYWZmYS00ZTMwLWJhNTQtNzBjZTQxNTY1YTE4',\n",
       " 'NmZjYWFkMzAtMmM0My00N2UzLWJlOWYtMGJjZTA1OTIxNzhh',\n",
       " 'YWQyY2VkMTAtODdiZi00ZmZiLTkyNzctMzgyN2JhMjIzMDZm',\n",
       " 'ZTBkY2MxODEtMDBkNy00MjM0LWEzOWUtODAzNzI1OGYxMmI3']"
      ]
     },
     "execution_count": 6,
     "metadata": {},
     "output_type": "execute_result"
    }
   ],
   "source": [
    "from langchain.document_loaders import TextLoader\n",
    "from langchain.text_splitter import CharacterTextSplitter\n",
    "\n",
    "loader = TextLoader(\"../data/state_of_the_union.txt\", encoding=\"utf-8\")\n",
    "\n",
    "documents = loader.load()\n",
    "text_splitter = CharacterTextSplitter(chunk_size=1000, chunk_overlap=0)\n",
    "docs = text_splitter.split_documents(documents)\n",
    "\n",
    "vector_store.add_documents(documents=docs)"
   ]
  },
  {
   "cell_type": "markdown",
   "metadata": {},
   "source": [
    "## Perform a vector similarity search"
   ]
  },
  {
   "cell_type": "code",
   "execution_count": 7,
   "metadata": {},
   "outputs": [
    {
     "name": "stdout",
     "output_type": "stream",
     "text": [
      "Tonight. I call on the Senate to: Pass the Freedom to Vote Act. Pass the John Lewis Voting Rights Act. And while you’re at it, pass the Disclose Act so Americans can know who is funding our elections. \n",
      "\n",
      "Tonight, I’d like to honor someone who has dedicated his life to serve this country: Justice Stephen Breyer—an Army veteran, Constitutional scholar, and retiring Justice of the United States Supreme Court. Justice Breyer, thank you for your service. \n",
      "\n",
      "One of the most serious constitutional responsibilities a President has is nominating someone to serve on the United States Supreme Court. \n",
      "\n",
      "And I did that 4 days ago, when I nominated Circuit Court of Appeals Judge Ketanji Brown Jackson. One of our nation’s top legal minds, who will continue Justice Breyer’s legacy of excellence.\n"
     ]
    }
   ],
   "source": [
    "# Perform a similarity search\n",
    "docs = vector_store.similarity_search(\n",
    "    query=\"What did the president say about Ketanji Brown Jackson\",\n",
    "    k=3,\n",
    "    search_type=\"similarity\",\n",
    ")\n",
    "print(docs[0].page_content)"
   ]
  },
  {
   "cell_type": "markdown",
   "metadata": {},
   "source": [
    "## Perform a hybrid search"
   ]
  },
  {
   "cell_type": "code",
   "execution_count": 9,
   "metadata": {},
   "outputs": [
    {
     "name": "stdout",
     "output_type": "stream",
     "text": [
      "Tonight. I call on the Senate to: Pass the Freedom to Vote Act. Pass the John Lewis Voting Rights Act. And while you’re at it, pass the Disclose Act so Americans can know who is funding our elections. \n",
      "\n",
      "Tonight, I’d like to honor someone who has dedicated his life to serve this country: Justice Stephen Breyer—an Army veteran, Constitutional scholar, and retiring Justice of the United States Supreme Court. Justice Breyer, thank you for your service. \n",
      "\n",
      "One of the most serious constitutional responsibilities a President has is nominating someone to serve on the United States Supreme Court. \n",
      "\n",
      "And I did that 4 days ago, when I nominated Circuit Court of Appeals Judge Ketanji Brown Jackson. One of our nation’s top legal minds, who will continue Justice Breyer’s legacy of excellence.\n"
     ]
    }
   ],
   "source": [
    "# Perform a hybrid search\n",
    "docs = vector_store.similarity_search(\n",
    "    query=\"What did the president say about Ketanji Brown Jackson\",\n",
    "    k=3, \n",
    "    search_type=\"hybrid\"\n",
    ")\n",
    "print(docs[0].page_content)"
   ]
  }
 ],
 "metadata": {
  "kernelspec": {
   "display_name": "Python 3",
   "language": "python",
   "name": "python3"
  },
  "language_info": {
   "codemirror_mode": {
    "name": "ipython",
    "version": 3
   },
   "file_extension": ".py",
   "mimetype": "text/x-python",
   "name": "python",
   "nbconvert_exporter": "python",
   "pygments_lexer": "ipython3",
   "version": "3.9.12"
  },
  "orig_nbformat": 4
 },
 "nbformat": 4,
 "nbformat_minor": 2
}
