{
 "cells": [
  {
   "attachments": {},
   "cell_type": "markdown",
   "metadata": {},
   "source": [
    "# Azure AI Search LangChain vector code sample\n",
    "This code demonstrates how to use Azure AI Search with OpenAI and Langchain"
   ]
  },
  {
   "cell_type": "markdown",
   "metadata": {},
   "source": [
    "### Set up a Python virtual environment in Visual Studio Code\n",
    "\n",
    "1. Open the Command Palette (Ctrl+Shift+P).\n",
    "1. Search for **Python: Create Environment**.\n",
    "1. Select **Venv**.\n",
    "1. Select a Python interpreter. Choose 3.10 or later.\n",
    "\n",
    "It can take a minute to set up. If you run into problems, see [Python environments in VS Code](https://code.visualstudio.com/docs/python/environments)."
   ]
  },
  {
   "cell_type": "markdown",
   "metadata": {},
   "source": [
    "### Install packages"
   ]
  },
  {
   "cell_type": "code",
   "execution_count": 23,
   "metadata": {},
   "outputs": [
    {
     "name": "stderr",
     "output_type": "stream",
     "text": [
      "\n",
      "[notice] A new release of pip is available: 23.2.1 -> 24.0\n",
      "[notice] To update, run: python.exe -m pip install --upgrade pip\n"
     ]
    }
   ],
   "source": [
    "! pip install -r requirements.txt --quiet"
   ]
  },
  {
   "cell_type": "markdown",
   "metadata": {},
   "source": [
    "### Load .env file (Copy .env-sample to .env and update accordingly)"
   ]
  },
  {
   "cell_type": "code",
   "execution_count": 24,
   "metadata": {},
   "outputs": [],
   "source": [
    "from dotenv import load_dotenv\n",
    "from azure.identity import DefaultAzureCredential\n",
    "import os\n",
    "\n",
    "load_dotenv(override=True) # take environment variables from .env.\n",
    "\n",
    "# Variables not used here do not need to be updated in your .env file\n",
    "endpoint = os.environ[\"AZURE_SEARCH_SERVICE_ENDPOINT\"]\n",
    "key_credential = os.environ[\"AZURE_SEARCH_ADMIN_KEY\"] if len(os.environ[\"AZURE_SEARCH_ADMIN_KEY\"]) > 0 else None\n",
    "index_name = os.environ[\"AZURE_SEARCH_INDEX\"]\n",
    "azure_openai_endpoint = os.environ[\"AZURE_OPENAI_ENDPOINT\"]\n",
    "azure_openai_key = os.environ[\"AZURE_OPENAI_KEY\"] if len(os.environ[\"AZURE_OPENAI_KEY\"]) > 0 else None\n",
    "azure_openai_embedding_deployment = os.environ[\"AZURE_OPENAI_EMBEDDING_DEPLOYMENT\"]\n",
    "azure_openai_api_version = os.environ[\"AZURE_OPENAI_API_VERSION\"]\n",
    "\n",
    "credential = key_credential or DefaultAzureCredential()"
   ]
  },
  {
   "cell_type": "markdown",
   "metadata": {},
   "source": [
    "### Create LangChain Azure OpenAI Embeddings"
   ]
  },
  {
   "cell_type": "code",
   "execution_count": 25,
   "metadata": {},
   "outputs": [],
   "source": [
    "from langchain_openai import AzureOpenAIEmbeddings\n",
    "from azure.identity import DefaultAzureCredential, get_bearer_token_provider\n",
    "\n",
    "openai_credential = DefaultAzureCredential()\n",
    "token_provider = get_bearer_token_provider(openai_credential, \"https://cognitiveservices.azure.com/.default\")\n",
    "\n",
    "# Use API key if provided, otherwise use RBAC authentication\n",
    "embeddings = AzureOpenAIEmbeddings(\n",
    "    azure_deployment=azure_openai_embedding_deployment,\n",
    "    openai_api_version=azure_openai_api_version,\n",
    "    azure_endpoint=azure_openai_endpoint,\n",
    "    api_key=azure_openai_key,\n",
    "    azure_ad_token_provider=token_provider if not azure_openai_key else None\n",
    ")   "
   ]
  },
  {
   "cell_type": "markdown",
   "metadata": {},
   "source": [
    "### Create LangChain Vector Store"
   ]
  },
  {
   "cell_type": "code",
   "execution_count": 26,
   "metadata": {},
   "outputs": [
    {
     "name": "stderr",
     "output_type": "stream",
     "text": [
      "vector_search_configuration is not a known attribute of class <class 'azure.search.documents.indexes.models._index.SearchField'> and will be ignored\n"
     ]
    }
   ],
   "source": [
    "from langchain.vectorstores.azuresearch import AzureSearch\n",
    "from azure.search.documents.indexes import SearchIndexClient\n",
    "from azure.search.documents.indexes.models import (\n",
    "    SearchIndex,\n",
    "    SearchField,\n",
    "    VectorSearch,\n",
    "    HnswAlgorithmConfiguration,\n",
    "    VectorSearchProfile,\n",
    "    SemanticSearch,\n",
    "    SemanticConfiguration,\n",
    "    SemanticPrioritizedFields,\n",
    "    SemanticField\n",
    ")\n",
    "from langchain_preview_patch.azuresearch import fix_vectorstore\n",
    "\n",
    "# LangChain is not yet compatible with the latest preview version of the Search SDK\n",
    "# A workaround is to create the index prior to using the LangChain vector store\n",
    "search_index = SearchIndex(\n",
    "    name=index_name,\n",
    "    fields=[\n",
    "        SearchField(name=\"id\", key=True, type=\"Edm.String\", searchable=True, filterable=True, facetable=False, sortable=True, hidden=False),\n",
    "        SearchField(name=\"content\", type=\"Edm.String\", searchable=True, filterable=False, facetable=False, sortable=False, hidden=False),\n",
    "        SearchField(name=\"content_vector\", type=\"Collection(Edm.Single)\", searchable=True, vector_search_dimensions=1536, vector_search_profile_name=\"myHnswProfile\", hidden=False),\n",
    "        SearchField(name=\"metadata\", type=\"Edm.String\", searchable=True, filterable=False, facetable=False, sortable=False, hidden=False)\n",
    "    ],\n",
    "    vector_search=VectorSearch(\n",
    "        algorithms=[\n",
    "            HnswAlgorithmConfiguration(name=\"hnsw\")\n",
    "        ],\n",
    "        profiles=[\n",
    "            VectorSearchProfile(name=\"myHnswProfile\", algorithm_configuration_name=\"hnsw\")\n",
    "        ]\n",
    "    ),\n",
    "    semantic_search=SemanticSearch(\n",
    "        default_configuration_name=\"semantic\",\n",
    "        configurations=[\n",
    "            SemanticConfiguration(\n",
    "                name=\"semantic\",\n",
    "                prioritized_fields=SemanticPrioritizedFields(\n",
    "                    content_fields=[\n",
    "                        SemanticField(field_name=\"content\")\n",
    "                    ]\n",
    "                )\n",
    "            )\n",
    "        ]\n",
    "    )\n",
    ")\n",
    "search_index_result = SearchIndexClient(endpoint=endpoint, credential=credential).create_or_update_index(search_index)\n",
    "\n",
    "# This code will generate a warning that can safely be ignored.\n",
    "vector_store = AzureSearch(\n",
    "    azure_search_endpoint=endpoint,\n",
    "    azure_search_key=key_credential,\n",
    "    fields=search_index_result.fields,\n",
    "    vector_search=search_index_result.vector_search,\n",
    "    semantic_configuration_name=search_index_result.semantic_search.default_configuration_name,\n",
    "    index_name=index_name,\n",
    "    embedding_function=embeddings.embed_query\n",
    ")\n",
    "# The LangChain vector search methods will not work with a newer SDK\n",
    "# These methods need to be patched using the replacements found in the langchain_patch directory\n",
    "fix_vectorstore(vector_store)"
   ]
  },
  {
   "cell_type": "code",
   "execution_count": 27,
   "metadata": {},
   "outputs": [
    {
     "name": "stdout",
     "output_type": "stream",
     "text": [
      "Indexed Benefit_Options.pdf\n",
      "Indexed Northwind_Health_Plus_Benefits_Details.pdf\n",
      "Indexed Northwind_Standard_Benefits_Details.pdf\n",
      "Indexed 636 chunks\n"
     ]
    }
   ],
   "source": [
    "from langchain_community.document_loaders import PyPDFLoader\n",
    "from langchain.text_splitter import RecursiveCharacterTextSplitter\n",
    "import os\n",
    "\n",
    "directory = os.path.join(\"..\", \"data\", \"documents\")\n",
    "files = [\"Benefit_Options.pdf\", \"Northwind_Health_Plus_Benefits_Details.pdf\", \"Northwind_Standard_Benefits_Details.pdf\"]\n",
    "total_chunks = 0\n",
    "splitter = RecursiveCharacterTextSplitter(chunk_size=1000, chunk_overlap=0)\n",
    "\n",
    "for file in files:\n",
    "    loader = PyPDFLoader(os.path.join(directory, file))\n",
    "    file_chunks = loader.load_and_split(splitter)\n",
    "    results = vector_store.add_documents(documents=file_chunks)\n",
    "    total_chunks += len(results)\n",
    "    print(f\"Indexed {file}\")\n",
    "print(f\"Indexed {total_chunks} chunks\")"
   ]
  },
  {
   "cell_type": "markdown",
   "metadata": {},
   "source": [
    "## Perform a vector similarity search"
   ]
  },
  {
   "cell_type": "code",
   "execution_count": 28,
   "metadata": {},
   "outputs": [
    {
     "name": "stdout",
     "output_type": "stream",
     "text": [
      "--------------------------------------------------------------------------------\n",
      "ID: MjNlYWE2OWMtNmIyYy00ZWUzLWE4ZjEtNTg1M2U1OTFiMGUy\n",
      "Chunk Content: It is important to remember that the Northwind Health Plus plan covers only medically \n",
      "necessary services. Non -essential services, such as elective or cosmetic procedures, are not \n",
      "covered.\n",
      "--------------------------------------------------------------------------------\n",
      "ID: OGVmNGI3MzItODU0Zi00ZDYwLTg5NGYtNTk0NjgyMDgwNzVh\n",
      "Chunk Content: included in the plan documents or  summary, then it does not apply to the plan.  \n",
      "You should also be aware that the Northwind Health Plus plan may contain certain \n",
      "exceptions, exclusions, and limitations. It is important to familiarize yourself with the plan \n",
      "documents to make sure that you u nderstand what services are covered and which are not \n",
      "covered. If you have any questions, Northwind Health has customer service representatives \n",
      "who are available to answer your questions.\n",
      "--------------------------------------------------------------------------------\n",
      "ID: NmUzYzYwNTMtNzAxZi00MjAxLWIzNTYtYzkwYWMxZTYyOGE0\n",
      "Chunk Content: care servi ces. The plans also cover preventive care services such as mammograms, colonoscopies, and \n",
      "other cancer screenings. \n",
      "Northwind Health Plus offers more comprehensive coverage than Northwind Standard. This plan offers \n",
      "coverage for emergency services, both in -network and out -of-network, as well as mental health and \n",
      "substance abuse coverage. Northwind Standard does not offer coverage for emergency services, mental \n",
      "health and substance abuse coverage, or out -of-network services.\n"
     ]
    }
   ],
   "source": [
    "# Perform a similarity search\n",
    "docs = vector_store.similarity_search(\n",
    "    \"What is included in my Northwind Health Plus plan that is not in standard?\",\n",
    "    k=3,\n",
    "    search_type=\"similarity\",\n",
    ")\n",
    "for doc in docs:\n",
    "    print(\"-\" * 80)  \n",
    "    print(f\"ID: {doc.metadata['id']}\")\n",
    "    print(f\"Chunk Content: {doc.page_content}\")"
   ]
  },
  {
   "cell_type": "markdown",
   "metadata": {},
   "source": [
    "## Perform a hybrid search"
   ]
  },
  {
   "cell_type": "code",
   "execution_count": 29,
   "metadata": {},
   "outputs": [
    {
     "name": "stdout",
     "output_type": "stream",
     "text": [
      "--------------------------------------------------------------------------------\n",
      "ID: OGVmNGI3MzItODU0Zi00ZDYwLTg5NGYtNTk0NjgyMDgwNzVh\n",
      "Chunk Content: included in the plan documents or  summary, then it does not apply to the plan.  \n",
      "You should also be aware that the Northwind Health Plus plan may contain certain \n",
      "exceptions, exclusions, and limitations. It is important to familiarize yourself with the plan \n",
      "documents to make sure that you u nderstand what services are covered and which are not \n",
      "covered. If you have any questions, Northwind Health has customer service representatives \n",
      "who are available to answer your questions.\n",
      "--------------------------------------------------------------------------------\n",
      "ID: NmUzYzYwNTMtNzAxZi00MjAxLWIzNTYtYzkwYWMxZTYyOGE0\n",
      "Chunk Content: care servi ces. The plans also cover preventive care services such as mammograms, colonoscopies, and \n",
      "other cancer screenings. \n",
      "Northwind Health Plus offers more comprehensive coverage than Northwind Standard. This plan offers \n",
      "coverage for emergency services, both in -network and out -of-network, as well as mental health and \n",
      "substance abuse coverage. Northwind Standard does not offer coverage for emergency services, mental \n",
      "health and substance abuse coverage, or out -of-network services.\n",
      "--------------------------------------------------------------------------------\n",
      "ID: MjNlYWE2OWMtNmIyYy00ZWUzLWE4ZjEtNTg1M2U1OTFiMGUy\n",
      "Chunk Content: It is important to remember that the Northwind Health Plus plan covers only medically \n",
      "necessary services. Non -essential services, such as elective or cosmetic procedures, are not \n",
      "covered.\n"
     ]
    }
   ],
   "source": [
    "# Perform a hybrid search\n",
    "docs = vector_store.similarity_search(\n",
    "    query=\"What is included in my Northwind Health Plus plan that is not in standard?\",\n",
    "    k=3, \n",
    "    search_type=\"hybrid\"\n",
    ")\n",
    "for doc in docs:\n",
    "    print(\"-\" * 80)  \n",
    "    print(f\"ID: {doc.metadata['id']}\")\n",
    "    print(f\"Chunk Content: {doc.page_content}\")"
   ]
  },
  {
   "cell_type": "markdown",
   "metadata": {},
   "source": [
    "## Perform a hybrid search with semantic reranking (powered by Bing)"
   ]
  },
  {
   "cell_type": "code",
   "execution_count": 30,
   "metadata": {},
   "outputs": [
    {
     "name": "stdout",
     "output_type": "stream",
     "text": [
      "--------------------------------------------------------------------------------\n",
      "Content: Northwind Standard, you can choose from a variety of in -network providers, including primary care \n",
      "physicians, specialists, hospitals, and pharmacies. This plan  does not offer coverage for emergency \n",
      "services, mental health and substance abuse coverage, or out -of-network services.\n",
      "Comparison of Plans \n",
      "Both plans offer coverage for routine physicals, well -child visits, immunizations, and other preventive \n",
      "care servi ces. The plans also cover preventive care services such as mammograms, colonoscopies, and \n",
      "other cancer screenings. \n",
      "Northwind Health Plus offers more comprehensive coverage than Northwind Standard. This plan offers \n",
      "coverage for emergency services, both in -network and out -of-network, as well as mental health and \n",
      "substance abuse coverage. Northwind Standard does not offer coverage for emergency services, mental \n",
      "health and substance abuse coverage, or out -of-network services.\n",
      "Score: 0.014305992051959038\n",
      "Caption: Northwind Standard does not offer<em> coverage for emergency services, mental  health and substance abuse coverage,</em> or out -of-network services..\u0000\n",
      "--------------------------------------------------------------------------------\n",
      "Content: Northwind Standard, you can choose from a variety of in -network providers, including primary care \n",
      "physicians, specialists, hospitals, and pharmacies. This plan  does not offer coverage for emergency \n",
      "services, mental health and substance abuse coverage, or out -of-network services.\n",
      "Comparison of Plans \n",
      "Both plans offer coverage for routine physicals, well -child visits, immunizations, and other preventive \n",
      "care servi ces. The plans also cover preventive care services such as mammograms, colonoscopies, and \n",
      "other cancer screenings. \n",
      "Northwind Health Plus offers more comprehensive coverage than Northwind Standard. This plan offers \n",
      "coverage for emergency services, both in -network and out -of-network, as well as mental health and \n",
      "substance abuse coverage. Northwind Standard does not offer coverage for emergency services, mental \n",
      "health and substance abuse coverage, or out -of-network services.\n",
      "Score: 0.014177345670759678\n",
      "Caption: Northwind Standard does not offer<em> coverage for emergency services, mental  health and substance abuse coverage,</em> or out -of-network services..\u0000\n",
      "--------------------------------------------------------------------------------\n",
      "Content: Northwind Standard, you can choose from a variety of in -network providers, including primary care \n",
      "physicians, specialists, hospitals, and pharmacies. This plan  does not offer coverage for emergency \n",
      "services, mental health and substance abuse coverage, or out -of-network services.\n",
      "Comparison of Plans \n",
      "Both plans offer coverage for routine physicals, well -child visits, immunizations, and other preventive \n",
      "care servi ces. The plans also cover preventive care services such as mammograms, colonoscopies, and \n",
      "other cancer screenings. \n",
      "Northwind Health Plus offers more comprehensive coverage than Northwind Standard. This plan offers \n",
      "coverage for emergency services, both in -network and out -of-network, as well as mental health and \n",
      "substance abuse coverage. Northwind Standard does not offer coverage for emergency services, mental \n",
      "health and substance abuse coverage, or out -of-network services.\n",
      "Score: 0.013949556276202202\n",
      "Caption: Northwind Standard does not offer<em> coverage for emergency services, mental  health and substance abuse coverage,</em> or out -of-network services..\u0000\n"
     ]
    }
   ],
   "source": [
    "# Perform a hybrid search with semantic reranking  \n",
    "docs_and_scores = vector_store.semantic_hybrid_search_with_score(  \n",
    "    query=\"What is included in my Northwind Health Plus plan that is not in standard?\",  \n",
    "    k=3,  \n",
    ")  \n",
    "  \n",
    "# Print the results  \n",
    "for doc, score in docs_and_scores:  \n",
    "    print(\"-\" * 80)  \n",
    "    answers = doc.metadata['answers']  \n",
    "    if answers:  \n",
    "        if answers.get('highlights'):  \n",
    "            print(f\"Semantic Answer: {answers['highlights']}\")  \n",
    "        else:  \n",
    "            print(f\"Semantic Answer: {answers['text']}\")  \n",
    "        print(f\"Semantic Answer Score: {score}\")  \n",
    "    print(\"Content:\", doc.page_content)  \n",
    "    captions = doc.metadata['captions']\n",
    "    print(f\"Score: {score}\") \n",
    "    if captions:  \n",
    "        if captions.get('highlights'):  \n",
    "            print(f\"Caption: {captions['highlights']}\")  \n",
    "        else:  \n",
    "            print(f\"Caption: {captions['text']}\")  \n",
    "    else:  \n",
    "        print(\"Caption not available\")  \n"
   ]
  }
 ],
 "metadata": {
  "kernelspec": {
   "display_name": "Python 3",
   "language": "python",
   "name": "python3"
  },
  "language_info": {
   "codemirror_mode": {
    "name": "ipython",
    "version": 3
   },
   "file_extension": ".py",
   "mimetype": "text/x-python",
   "name": "python",
   "nbconvert_exporter": "python",
   "pygments_lexer": "ipython3",
   "version": "3.11.7"
  },
  "orig_nbformat": 4
 },
 "nbformat": 4,
 "nbformat_minor": 2
}
