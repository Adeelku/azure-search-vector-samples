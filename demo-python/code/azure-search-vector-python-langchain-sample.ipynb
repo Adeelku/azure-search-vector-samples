{
 "cells": [
  {
   "attachments": {},
   "cell_type": "markdown",
   "metadata": {},
   "source": [
    "# Azure Cognitive Search LangChain Vector Code Sample\n",
    "This code demonstrates how to use Azure Cognitive Search with OpenAI and the Azure Cognitive Search LangChain Vector Store\n",
    "To run the code, install the following packages. Please use the latest pre-release version `pip install azure-search-documents==11.4.0b6` until the Langchain AzureSearch vector store integration gets updated with the latest python azure sdk updates`."
   ]
  },
  {
   "cell_type": "code",
   "execution_count": null,
   "metadata": {},
   "outputs": [],
   "source": [
    "! pip install azure-search-documents==11.4.0b6\n",
    "! pip install openai\n",
    "! pip install python-dotenv\n",
    "! pip install langchain"
   ]
  },
  {
   "attachments": {},
   "cell_type": "markdown",
   "metadata": {},
   "source": [
    "## Import required libraries and environment variables"
   ]
  },
  {
   "cell_type": "code",
   "execution_count": 14,
   "metadata": {},
   "outputs": [],
   "source": [
    "# Import required libraries  \n",
    "import openai\n",
    "import os  \n",
    "from dotenv import load_dotenv\n",
    "from langchain.embeddings.openai import OpenAIEmbeddings\n",
    "from langchain.vectorstores.azuresearch import AzureSearch\n",
    "from azure.search.documents.indexes.models import (\n",
    "    SemanticSettings,\n",
    "    SemanticConfiguration,\n",
    "    PrioritizedFields,\n",
    "    SemanticField\n",
    ")\n"
   ]
  },
  {
   "cell_type": "markdown",
   "metadata": {},
   "source": [
    "## Configure OpenAI Settings"
   ]
  },
  {
   "cell_type": "code",
   "execution_count": 3,
   "metadata": {},
   "outputs": [],
   "source": [
    "# Configure environment variables  \n",
    "load_dotenv()  \n",
    "openai.api_type: str = \"azure\"  \n",
    "openai.api_key = os.getenv(\"AZURE_OPENAI_API_KEY\")  \n",
    "openai.api_base = os.getenv(\"AZURE_OPENAI_ENDPOINT\")  \n",
    "openai.api_version = os.getenv(\"AZURE_OPENAI_API_VERSION\")  \n",
    "model: str = \"text-embedding-ada-002\""
   ]
  },
  {
   "cell_type": "markdown",
   "metadata": {},
   "source": [
    "## Configure Vector Store Settings"
   ]
  },
  {
   "cell_type": "code",
   "execution_count": 4,
   "metadata": {},
   "outputs": [],
   "source": [
    "vector_store_address: str = os.getenv(\"AZURE_SEARCH_SERVICE_ENDPOINT\")  \n",
    "vector_store_password: str = os.getenv(\"AZURE_SEARCH_ADMIN_KEY\") \n",
    "index_name: str = \"langchain-vector-demo\""
   ]
  },
  {
   "attachments": {},
   "cell_type": "markdown",
   "metadata": {},
   "source": [
    "## Create embeddings and vector store instances\n",
    "Read your data, generate OpenAI embeddings and export to a format to insert your Azure Cognitive Search index:"
   ]
  },
  {
   "cell_type": "code",
   "execution_count": null,
   "metadata": {},
   "outputs": [],
   "source": [
    "embeddings: OpenAIEmbeddings = OpenAIEmbeddings(deployment=model, model=model, chunk_size=1, openai_api_base=os.getenv(\"AZURE_OPENAI_ENDPOINT\"), openai_api_type=\"azure\" )\n",
    "index_name: str = \"langchain-vector-demo\"\n",
    "vector_store: AzureSearch = AzureSearch(\n",
    "    azure_search_endpoint=vector_store_address,\n",
    "    azure_search_key=vector_store_password,\n",
    "    index_name=index_name,\n",
    "    embedding_function=embeddings.embed_query,\n",
    "    semantic_configuration_name='config',\n",
    "        semantic_settings=SemanticSettings(\n",
    "            default_configuration='config',\n",
    "            configurations=[\n",
    "                SemanticConfiguration(\n",
    "                    name='config',\n",
    "                    prioritized_fields=PrioritizedFields(\n",
    "                        title_field=SemanticField(field_name='content'),\n",
    "                        prioritized_content_fields=[SemanticField(field_name='content')],\n",
    "                        prioritized_keywords_fields=[SemanticField(field_name='metadata')]\n",
    "                    ))\n",
    "            ])\n",
    "    )\n"
   ]
  },
  {
   "cell_type": "markdown",
   "metadata": {},
   "source": [
    "## Insert text and embeddings into vector store"
   ]
  },
  {
   "cell_type": "code",
   "execution_count": 8,
   "metadata": {},
   "outputs": [
    {
     "data": {
      "text/plain": [
       "['YmJjNzBhNGEtMGE0OC00ODYzLWJhMzQtY2FhMTY5NWQ2OGJj',\n",
       " 'MjY5MmUxODItYzA2NC00MWYzLWJhMzItNzM0ZjhjYjljNzhj',\n",
       " 'NzJjZDk0MzgtY2FmNy00YWQ4LTk4YzgtYzlhZDZkMmI5YjY3',\n",
       " 'YjdiYTY5OGItNGEyMC00ZWEyLTk0NzQtMGU0MmRlOGViNjRj',\n",
       " 'ODJlYTgzNWEtNTY2MC00MzMzLTkzYjYtN2U0ZGVhODUzMWY5',\n",
       " 'ZWI1Yzk4NTMtZmVhMy00ZWQwLTk2NjItYTlmZjFkZDdlMThk',\n",
       " 'ZDBmODQzMzktNDU3Ny00MDMxLWE0MjItMmM1NTg1ZGQ4MTJm',\n",
       " 'MzE1OGNhMDgtZDU3ZS00OGM3LWJlZTQtMmFjNDM2ZTA5YTJh',\n",
       " 'MTBhYmE3NTItNTYxZS00N2Y5LThjNmQtYTAxZDQ3YWY2ZjY5',\n",
       " 'NWRmMzNmNGUtNmYzZi00MGVhLTk4NDAtZjczODU2MWY4MGNm',\n",
       " 'NmRiZGM4YzAtYzgwZi00OTk2LWIyNDEtZWZmNjc3YmJhNTcy',\n",
       " 'ZjJlNzM2ZWItNWVmNC00ZTM1LWFlZGUtYjkwNDY2ZWNhZTYx',\n",
       " 'NmE4MGZlYTQtODM1OC00YmRjLWIzZDgtMDRhMDU3YzRkOTEy',\n",
       " 'ZTcxMTA1NmQtMTk5Ni00MTAxLWE0NzktMmJiZTkxZDYwMGQz',\n",
       " 'YjJjMGNkOGEtYWQ2ZS00YTAyLWIzZTMtNTIxYzBhZDFkYTY4',\n",
       " 'ZGQ0ZDMzYmMtM2JiNy00Zjg2LTg3MWQtNDBmY2FiYTk2OWIx',\n",
       " 'ODNhNjQ0ZTktMzI1MS00YzRjLWEwMDAtODdkOTg3NWJlMzhl',\n",
       " 'OWZmNjBjNmMtMzcyNS00ZjE4LTg4YmEtNDBkN2I1MjcyOWQ3',\n",
       " 'ZGFlOTdmZDMtMTkzZC00NWRmLThlMDUtMzFhMmMzNjgyMWM0',\n",
       " 'NTI5NzQ0M2MtM2JhNS00NzY0LTg3YzItNDk2NDU4Nzc4ZWI5',\n",
       " 'NzVjMDEyNWMtYTI0My00NWY2LWEwNzAtODZjNTU4Nzc1ZDVl',\n",
       " 'M2ZkMDc3ZDAtNTFlYi00NTNiLWIwZmUtZWEzN2VlOTg3OTk3',\n",
       " 'OWYyNTBiOWQtZjg1OS00NTg0LWI2ZDMtNGYzMDU4ZWI3N2Y5',\n",
       " 'ZGE2ZjEzYWYtOGNjMi00YTEwLWE1ZWYtZTgwYjQ2N2E4MDY2',\n",
       " 'NWY1MWExODYtOWIwZS00MzYzLThjZDItOTc1MjFkZjg4NjBm',\n",
       " 'YTQxYjZiNTgtNWIwMS00MTI2LWFkN2QtYTI0MjViN2VhZmQ3',\n",
       " 'YTFhZTU3ZmEtOGNhNC00ODgzLWE2YTQtZjJmMGJjYjk0OTMz',\n",
       " 'ZGM4NWYxZjYtMjgxNC00YTZkLTgxZWMtNTczODMxYzIyOTQ4',\n",
       " 'YjViN2JkY2EtYjUyZi00OGYzLTg2NjAtYTNlMzk3YWMyNTc4',\n",
       " 'ODY0MGE5OGUtNjU2Ni00OTIwLWFmMDAtZGYxZTMwMDBjMzg5',\n",
       " 'YTQ1ZjRkYzQtZmYyNi00ODg0LWI3NjEtMWJmZWU5OGRjYzIx',\n",
       " 'NTQyNzI5MWQtNDIwYS00OTM3LWE1NTUtOWI2NWZkOWJkZWFj',\n",
       " 'NjdjZTZlYWItNzdlMy00MTk5LWE2OTMtYWM1ZGI1Mzc2Mzdi',\n",
       " 'ZDk1OTU3NzAtNjYzMi00ODlmLTgxOWYtYmQxMjU3NjhmMzcw',\n",
       " 'Y2M3ZDJlYmItYjA2ZS00Zjc0LTliNWMtZGY2ODg0M2IwYjFj',\n",
       " 'MzM2YmZkZTEtYTYzNy00YmFjLWIyNzAtYjUzMWIxNDYwNDY4',\n",
       " 'MzhhNjI3NGUtYTA1YS00ZWFiLTgxYjQtZGM1MGE0MzgzMmUw',\n",
       " 'MThiNTQ3NDYtODYwOC00NTY2LTlkYmEtMzc0NmZmYzU4ZWQ5',\n",
       " 'YjM5YjNjNDktMTAxNS00MzI5LWIzMmEtYTllZTA0YTUyYmM4',\n",
       " 'OWUxMGZkOTEtNjY3My00ZjlkLWI5MzItZWMxZmY5MTU4YjYx',\n",
       " 'NzVlMzQyNGEtNTQxMy00NTlmLWEyZDMtOWNlYjkwNGVlMjg2',\n",
       " 'YTYxM2VhOTUtNWEwMy00NjRhLWJhNjktNzJhNTBlZDllMDYx']"
      ]
     },
     "execution_count": 8,
     "metadata": {},
     "output_type": "execute_result"
    }
   ],
   "source": [
    "from langchain.document_loaders import TextLoader\n",
    "from langchain.text_splitter import CharacterTextSplitter\n",
    "\n",
    "loader = TextLoader(\"../data/state_of_the_union.txt\", encoding=\"utf-8\")\n",
    "\n",
    "documents = loader.load()\n",
    "text_splitter = CharacterTextSplitter(chunk_size=1000, chunk_overlap=0)\n",
    "docs = text_splitter.split_documents(documents)\n",
    "\n",
    "vector_store.add_documents(documents=docs)"
   ]
  },
  {
   "cell_type": "markdown",
   "metadata": {},
   "source": [
    "## Perform a vector similarity search"
   ]
  },
  {
   "cell_type": "code",
   "execution_count": 21,
   "metadata": {},
   "outputs": [
    {
     "name": "stdout",
     "output_type": "stream",
     "text": [
      "Tonight. I call on the Senate to: Pass the Freedom to Vote Act. Pass the John Lewis Voting Rights Act. And while you’re at it, pass the Disclose Act so Americans can know who is funding our elections. \n",
      "\n",
      "Tonight, I’d like to honor someone who has dedicated his life to serve this country: Justice Stephen Breyer—an Army veteran, Constitutional scholar, and retiring Justice of the United States Supreme Court. Justice Breyer, thank you for your service. \n",
      "\n",
      "One of the most serious constitutional responsibilities a President has is nominating someone to serve on the United States Supreme Court. \n",
      "\n",
      "And I did that 4 days ago, when I nominated Circuit Court of Appeals Judge Ketanji Brown Jackson. One of our nation’s top legal minds, who will continue Justice Breyer’s legacy of excellence.\n"
     ]
    }
   ],
   "source": [
    "# Perform a similarity search\n",
    "docs = vector_store.similarity_search(\n",
    "    query=\"What did the president say about Ketanji Brown Jackson\",\n",
    "    k=3,\n",
    "    search_type=\"similarity\",\n",
    ")\n",
    "print(docs[0].page_content)"
   ]
  },
  {
   "cell_type": "markdown",
   "metadata": {},
   "source": [
    "## Perform a hybrid search"
   ]
  },
  {
   "cell_type": "code",
   "execution_count": 10,
   "metadata": {},
   "outputs": [
    {
     "name": "stdout",
     "output_type": "stream",
     "text": [
      "Tonight. I call on the Senate to: Pass the Freedom to Vote Act. Pass the John Lewis Voting Rights Act. And while you’re at it, pass the Disclose Act so Americans can know who is funding our elections. \n",
      "\n",
      "Tonight, I’d like to honor someone who has dedicated his life to serve this country: Justice Stephen Breyer—an Army veteran, Constitutional scholar, and retiring Justice of the United States Supreme Court. Justice Breyer, thank you for your service. \n",
      "\n",
      "One of the most serious constitutional responsibilities a President has is nominating someone to serve on the United States Supreme Court. \n",
      "\n",
      "And I did that 4 days ago, when I nominated Circuit Court of Appeals Judge Ketanji Brown Jackson. One of our nation’s top legal minds, who will continue Justice Breyer’s legacy of excellence.\n"
     ]
    }
   ],
   "source": [
    "# Perform a hybrid search\n",
    "docs = vector_store.similarity_search(\n",
    "    query=\"What did the president say about Ketanji Brown Jackson\",\n",
    "    k=3, \n",
    "    search_type=\"hybrid\"\n",
    ")\n",
    "print(docs[0].page_content)"
   ]
  },
  {
   "cell_type": "markdown",
   "metadata": {},
   "source": [
    "## Perform a Hybrid Search with Semantic re-ranking (powered by Bing)"
   ]
  },
  {
   "cell_type": "code",
   "execution_count": 60,
   "metadata": {},
   "outputs": [
    {
     "name": "stdout",
     "output_type": "stream",
     "text": [
      "--------------------------------------------------------------------------------\n",
      "Content: Tonight. I call on the Senate to: Pass the Freedom to Vote Act. Pass the John Lewis Voting Rights Act. And while you’re at it, pass the Disclose Act so Americans can know who is funding our elections. \n",
      "\n",
      "Tonight, I’d like to honor someone who has dedicated his life to serve this country: Justice Stephen Breyer—an Army veteran, Constitutional scholar, and retiring Justice of the United States Supreme Court. Justice Breyer, thank you for your service. \n",
      "\n",
      "One of the most serious constitutional responsibilities a President has is nominating someone to serve on the United States Supreme Court. \n",
      "\n",
      "And I did that 4 days ago, when I nominated Circuit Court of Appeals Judge Ketanji Brown Jackson. One of our nation’s top legal minds, who will continue Justice Breyer’s legacy of excellence.\n",
      "Score: 0.03333333507180214\n",
      "Caption: One of the most serious constitutional responsibilities a President has is nominating someone to serve on the United States Supreme Court. And I did that 4 days ago, when I nominated Circuit Court of Appeals Judge Ketanji Brown Jackson. One of our nation’s top legal minds, who will continue Justice Breyer’s legacy of excellence..\u0000\n",
      "--------------------------------------------------------------------------------\n",
      "Content: Second – we must prepare for new variants. Over the past year, we’ve gotten much better at detecting new variants. \n",
      "\n",
      "If necessary, we’ll be able to deploy new vaccines within 100 days instead of many more months or years.  \n",
      "\n",
      "And, if Congress provides the funds we need, we’ll have new stockpiles of tests, masks, and pills ready if needed. \n",
      "\n",
      "I cannot promise a new variant won’t come. But I can promise you we’ll do everything within our power to be ready if it does.  \n",
      "\n",
      "Third – we can end the shutdown of schools and businesses. We have the tools we need. \n",
      "\n",
      "It’s time for Americans to get back to work and fill our great downtowns again.  People working from home can feel safe to begin to return to the office.   \n",
      "\n",
      "We’re doing that here in the federal government. The vast majority of federal workers will once again work in person. \n",
      "\n",
      "Our schools are open. Let’s keep it that way. Our kids need to be in school.\n",
      "Score: 0.02277432754635811\n",
      "Caption: I cannot promise a new variant won’t come. But I<em> can</em> promise you we’ll<em> do</em> everything within our power to be ready if it<em> does.</em> Third – we<em> can</em> end the shutdown of schools and businesses. We have the tools we need. It’s time for Americans to get back to work and fill our great downtowns again.\n",
      "--------------------------------------------------------------------------------\n",
      "Content: We’re going after the criminals who stole billions in relief money meant for small businesses and millions of Americans.  \n",
      "\n",
      "And tonight, I’m announcing that the Justice Department will name a chief prosecutor for pandemic fraud. \n",
      "\n",
      "By the end of this year, the deficit will be down to less than half what it was before I took office.  \n",
      "\n",
      "The only president ever to cut the deficit by more than one trillion dollars in a single year. \n",
      "\n",
      "Lowering your costs also means demanding more competition. \n",
      "\n",
      "I’m a capitalist, but capitalism without competition isn’t capitalism. \n",
      "\n",
      "It’s exploitation—and it drives up prices. \n",
      "\n",
      "When corporations don’t have to compete, their profits go up, your prices go up, and small businesses and family farmers and ranchers go under. \n",
      "\n",
      "We see it happening with ocean carriers moving goods in and out of America. \n",
      "\n",
      "During the pandemic, these foreign-owned companies raised prices by as much as 1,000% and made record profits.\n",
      "Score: 0.030330881476402283\n",
      "Caption: The only president ever to cut the deficit by more than one trillion dollars in a single year. Lowering your costs also means demanding more competition. I’m a capitalist, but capitalism without competition isn’t capitalism. It’s exploitation—and it drives up prices.\n"
     ]
    }
   ],
   "source": [
    "# Perform a hybrid search with semantic reranking  \n",
    "docs_and_scores = vector_store.semantic_hybrid_search_with_score(  \n",
    "    query=\"What did the president say about Ketanji Brown Jackson\",  \n",
    "    k=3,  \n",
    ")  \n",
    "  \n",
    "# Print the results  \n",
    "for doc, score in docs_and_scores:  \n",
    "    print(\"-\" * 80)  \n",
    "    answers = doc.metadata['answers']  \n",
    "    if answers:  \n",
    "        if answers.get('highlights'):  \n",
    "            print(f\"Semantic Answer: {answers['highlights']}\")  \n",
    "        else:  \n",
    "            print(f\"Semantic Answer: {answers['text']}\")  \n",
    "        print(f\"Semantic Answer Score: {score}\")  \n",
    "    print(\"Content:\", doc.page_content)  \n",
    "    captions = doc.metadata['captions']\n",
    "    print(f\"Score: {score}\") \n",
    "    if captions:  \n",
    "        if captions.get('highlights'):  \n",
    "            print(f\"Caption: {captions['highlights']}\")  \n",
    "        else:  \n",
    "            print(f\"Caption: {captions['text']}\")  \n",
    "    else:  \n",
    "        print(\"Caption not available\")  \n"
   ]
  }
 ],
 "metadata": {
  "kernelspec": {
   "display_name": "Python 3",
   "language": "python",
   "name": "python3"
  },
  "language_info": {
   "codemirror_mode": {
    "name": "ipython",
    "version": 3
   },
   "file_extension": ".py",
   "mimetype": "text/x-python",
   "name": "python",
   "nbconvert_exporter": "python",
   "pygments_lexer": "ipython3",
   "version": "3.9.12"
  },
  "orig_nbformat": 4
 },
 "nbformat": 4,
 "nbformat_minor": 2
}
