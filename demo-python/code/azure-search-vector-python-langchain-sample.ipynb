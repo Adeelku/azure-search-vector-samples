{
 "cells": [
  {
   "attachments": {},
   "cell_type": "markdown",
   "metadata": {},
   "source": [
    "# Azure Cognitive Search LangChain Vector Code Sample\n",
    "This code demonstrates how to use Azure Cognitive Search with OpenAI and the Azure Cognitive Search LangChain Vector Store\n",
    "To run the code, install the following packages. Please use the latest pre-release version `pip install azure-search-documents==11.4.0b6` until the Langchain AzureSearch vector store integration gets updated with the latest python azure sdk updates`."
   ]
  },
  {
   "cell_type": "code",
   "execution_count": null,
   "metadata": {},
   "outputs": [],
   "source": [
    "! pip install azure-search-documents==11.4.0b6\n",
    "! pip install openai\n",
    "! pip install python-dotenv\n",
    "! pip install langchain"
   ]
  },
  {
   "attachments": {},
   "cell_type": "markdown",
   "metadata": {},
   "source": [
    "## Import required libraries and environment variables"
   ]
  },
  {
   "cell_type": "code",
   "execution_count": 2,
   "metadata": {},
   "outputs": [],
   "source": [
    "# Import required libraries  \n",
    "import openai\n",
    "import os  \n",
    "from dotenv import load_dotenv\n",
    "from langchain.embeddings.openai import OpenAIEmbeddings\n",
    "from langchain.vectorstores.azuresearch import AzureSearch\n"
   ]
  },
  {
   "cell_type": "markdown",
   "metadata": {},
   "source": [
    "## Configure OpenAI Settings"
   ]
  },
  {
   "cell_type": "code",
   "execution_count": 5,
   "metadata": {},
   "outputs": [],
   "source": [
    "# Configure environment variables  \n",
    "load_dotenv()  \n",
    "openai.api_type: str = \"azure\"  \n",
    "openai.api_key = os.getenv(\"AZURE_OPENAI_API_KEY\")  \n",
    "openai.api_base = os.getenv(\"AZURE_OPENAI_ENDPOINT\")  \n",
    "openai.api_version = os.getenv(\"AZURE_OPENAI_API_VERSION\")  \n",
    "model: str = \"text-embedding-ada-002\""
   ]
  },
  {
   "cell_type": "markdown",
   "metadata": {},
   "source": [
    "## Configure Vector Store Settings"
   ]
  },
  {
   "cell_type": "code",
   "execution_count": 6,
   "metadata": {},
   "outputs": [],
   "source": [
    "vector_store_address: str = os.getenv(\"AZURE_SEARCH_SERVICE_ENDPOINT\")  \n",
    "vector_store_password: str = os.getenv(\"AZURE_SEARCH_ADMIN_KEY\") \n",
    "index_name: str = \"langchain-vector-demo\""
   ]
  },
  {
   "attachments": {},
   "cell_type": "markdown",
   "metadata": {},
   "source": [
    "## Create embeddings and vector store instances\n",
    "Read your data, generate OpenAI embeddings and export to a format to insert your Azure Cognitive Search index:"
   ]
  },
  {
   "cell_type": "code",
   "execution_count": 7,
   "metadata": {},
   "outputs": [],
   "source": [
    "embeddings: OpenAIEmbeddings = OpenAIEmbeddings(deployment=model, model=model, chunk_size=1, openai_api_base=os.getenv(\"AZURE_OPENAI_ENDPOINT\"), openai_api_type=\"azure\" )\n",
    "index_name: str = \"langchain-vector-demo\"\n",
    "vector_store: AzureSearch = AzureSearch(\n",
    "    azure_search_endpoint=vector_store_address,\n",
    "    azure_search_key=vector_store_password,\n",
    "    index_name=index_name,\n",
    "    embedding_function=embeddings.embed_query,\n",
    ")"
   ]
  },
  {
   "cell_type": "markdown",
   "metadata": {},
   "source": [
    "## Insert text and embeddings into vector store"
   ]
  },
  {
   "cell_type": "code",
   "execution_count": 8,
   "metadata": {},
   "outputs": [
    {
     "data": {
      "text/plain": [
       "['YjBiNjUzZDItNGMzZC00OGM1LTgyYWQtNGQyODZkZjk0NzY3',\n",
       " 'ZTdhNDdhYzAtZTI0My00ZTVmLWI2ZjktM2ZmYjcyOThkOGQ1',\n",
       " 'YzdmOGUyMmQtZWQ4Ny00YjRkLWI0NWItZmIxYmNiZjliMTRi',\n",
       " 'ZDMwM2ZkMmUtOTdhMi00NjQ2LThjNTktYTIyZDFmMGZmMDVm',\n",
       " 'Mjc4ZTk3YWYtMWU3Yy00OWYyLThiMjEtOGMzYWU3ZmU2NzNh',\n",
       " 'Mzk5ODcxZDktZjI3Ny00YzA5LWE5ZTUtNGI4OTdiZWRlMTdl',\n",
       " 'Zjk5MDk2OGQtYjE3NS00NDcwLWI5ZTUtM2RhZDY3MzNkZTlk',\n",
       " 'YzIyMGJjZDUtODRiNi00YTk3LWFjYjYtZWNkNTgwNzU2NWI2',\n",
       " 'ZDU5MTNlYmUtODQ0Yi00ZmJiLTkyNDEtNzE5NmRiYTcwN2Fm',\n",
       " 'MTQ4MjdmOTctODNhNi00MWU2LWEyNDAtMGNhZDJiYTYzZTAw',\n",
       " 'ZTg3NzJkMDQtYmZhMi00ZjgxLTkyNDgtODVkZTJiZDUwYjEx',\n",
       " 'OWQwODk3OTktMjFlMi00NGE1LTg1ZGItOGQzZTM3ZTliOTcw',\n",
       " 'MDM4ZTI4NTUtYjA1ZC00MWU1LWIzZmYtYTM4YmQ3ZTM0MGVm',\n",
       " 'N2U5ZWQxMDEtOGYzZS00NjUzLWJiMzgtNDk0MWM2MWI3N2I3',\n",
       " 'ZjY4Y2QwYTEtOTJjOC00NDg0LWI5ZWYtNWRlZjAzMjk4Yjcw',\n",
       " 'ZDIzNjY1YjktMWE2Zi00OTZjLThjN2ItNjY0MTM5ZTEyOGNk',\n",
       " 'NTVmMzk5NGMtNWQ4Yi00NmNkLWE1NWYtM2M5ZmFlZWYyMmVk',\n",
       " 'OTdhMzEzNjAtNzlmMy00MmFjLTliNmQtNTg1MTdkNmU0Mzhm',\n",
       " 'NmRkNDYxNDYtMWFhYi00YTdjLTgxYzgtYTEyZjBjZjI4ZTkz',\n",
       " 'NzVkM2QxOTUtMzVlYi00MzlhLTgzZGQtNzg5ZjRjZDA4Y2Fh',\n",
       " 'ODA4NzQ2MTktOTI1MC00OWY0LWJkMTEtMDFlZmQwODMxYzUx',\n",
       " 'ZmU1M2E2ZjgtMzU5ZS00ODQxLTk3OGYtNDBlZDBiNjIzYjM5',\n",
       " 'ZjFmZDQxYTItYjNkZS00OTZjLWI5ZWEtYTYwOTMwOTViNjlm',\n",
       " 'NDUyMWM5ZTEtM2JiYS00YTYyLWI2MjItNDQxMDMwZTdjODc0',\n",
       " 'Njc5ZTdiYzEtMzFhZS00ZGEzLTkyNmMtMDJjMjZkODg0NzIx',\n",
       " 'ZWZlMzE0NDMtZWM2MS00MGJlLWJkZDItN2ZmZTUwZDE3N2Zj',\n",
       " 'Y2MwNzE5N2ItYjAzOC00OTBlLWE4NzQtODgyMTE2ZmQ3MzQx',\n",
       " 'MWUwOTUwYzgtZmM5MS00NTliLWIzZjAtYmIxZWI4OTdmM2E4',\n",
       " 'ZWI0ZWYyNjYtYTdhNS00NmEyLThiNWUtY2Y0ZThhMzExZTc4',\n",
       " 'NmZmMDZlY2ItYmM2Ny00ZWE0LTk2YTEtZjU3MTU3ZjU4Mjc0',\n",
       " 'ODBiYmEzYjAtMzliYy00YmI1LTk2YmYtM2EzYTBmMGYwOTRk',\n",
       " 'YTVkMDE5NGEtMTA0MC00Y2Y5LWFlNjEtZGY1M2FjYmI0NGVj',\n",
       " 'ZTQ0OTdiNjctNjc2MC00MzRkLTljODMtNzM1OTU4NWE4Njcy',\n",
       " 'ZDNkYjAxOWItYWI3OC00ZDYyLWFjOGEtNjcxYmZlN2U0MWJj',\n",
       " 'YzRiOWIyYzQtYTI1Yi00NGZlLWI2OTktOGQ3MDY2MTg3MjNi',\n",
       " 'ZDRmYjEzNDMtN2FkZC00NTE2LWEwNjktYTFjYWViY2MyYmJm',\n",
       " 'NzU2MDI3NmYtYTNjMC00ZmE5LTllMWQtNDUwNmU3ZWVmNzQ5',\n",
       " 'NzVjNjU1Y2MtOTFiZi00MWMzLTg0NGItZDI3MDE0NWNkNzEx',\n",
       " 'MTFhZGMzOWQtOWU2NC00NTFjLThhOTgtOTY4NmQ2NjkwNjI3',\n",
       " 'OTBiOWFkZDEtZGU5Mi00MDg2LTlmMzYtMmYwOTdlOWNmM2Iz',\n",
       " 'YWUzYmRmODgtOWVkYi00MWZlLTg3Y2ItYTAyNGI4ODhjNWU3',\n",
       " 'NTNlYzJiMTktMmIxOC00Njg4LWJjOTYtNDZjMWE3ZGY5OGMx']"
      ]
     },
     "execution_count": 8,
     "metadata": {},
     "output_type": "execute_result"
    }
   ],
   "source": [
    "from langchain.document_loaders import TextLoader\n",
    "from langchain.text_splitter import CharacterTextSplitter\n",
    "\n",
    "loader = TextLoader(\"../data/state_of_the_union.txt\", encoding=\"utf-8\")\n",
    "\n",
    "documents = loader.load()\n",
    "text_splitter = CharacterTextSplitter(chunk_size=1000, chunk_overlap=0)\n",
    "docs = text_splitter.split_documents(documents)\n",
    "\n",
    "vector_store.add_documents(documents=docs)"
   ]
  },
  {
   "cell_type": "markdown",
   "metadata": {},
   "source": [
    "## Perform a vector similarity search"
   ]
  },
  {
   "cell_type": "code",
   "execution_count": 9,
   "metadata": {},
   "outputs": [
    {
     "name": "stdout",
     "output_type": "stream",
     "text": [
      "Tonight. I call on the Senate to: Pass the Freedom to Vote Act. Pass the John Lewis Voting Rights Act. And while you’re at it, pass the Disclose Act so Americans can know who is funding our elections. \n",
      "\n",
      "Tonight, I’d like to honor someone who has dedicated his life to serve this country: Justice Stephen Breyer—an Army veteran, Constitutional scholar, and retiring Justice of the United States Supreme Court. Justice Breyer, thank you for your service. \n",
      "\n",
      "One of the most serious constitutional responsibilities a President has is nominating someone to serve on the United States Supreme Court. \n",
      "\n",
      "And I did that 4 days ago, when I nominated Circuit Court of Appeals Judge Ketanji Brown Jackson. One of our nation’s top legal minds, who will continue Justice Breyer’s legacy of excellence.\n"
     ]
    }
   ],
   "source": [
    "# Perform a similarity search\n",
    "docs = vector_store.similarity_search(\n",
    "    query=\"What did the president say about Ketanji Brown Jackson\",\n",
    "    k=3,\n",
    "    search_type=\"similarity\",\n",
    ")\n",
    "print(docs[0].page_content)"
   ]
  },
  {
   "cell_type": "markdown",
   "metadata": {},
   "source": [
    "## Perform a hybrid search"
   ]
  },
  {
   "cell_type": "code",
   "execution_count": 10,
   "metadata": {},
   "outputs": [
    {
     "name": "stdout",
     "output_type": "stream",
     "text": [
      "Tonight. I call on the Senate to: Pass the Freedom to Vote Act. Pass the John Lewis Voting Rights Act. And while you’re at it, pass the Disclose Act so Americans can know who is funding our elections. \n",
      "\n",
      "Tonight, I’d like to honor someone who has dedicated his life to serve this country: Justice Stephen Breyer—an Army veteran, Constitutional scholar, and retiring Justice of the United States Supreme Court. Justice Breyer, thank you for your service. \n",
      "\n",
      "One of the most serious constitutional responsibilities a President has is nominating someone to serve on the United States Supreme Court. \n",
      "\n",
      "And I did that 4 days ago, when I nominated Circuit Court of Appeals Judge Ketanji Brown Jackson. One of our nation’s top legal minds, who will continue Justice Breyer’s legacy of excellence.\n"
     ]
    }
   ],
   "source": [
    "# Perform a hybrid search\n",
    "docs = vector_store.similarity_search(\n",
    "    query=\"What did the president say about Ketanji Brown Jackson\",\n",
    "    k=3, \n",
    "    search_type=\"hybrid\"\n",
    ")\n",
    "print(docs[0].page_content)"
   ]
  }
 ],
 "metadata": {
  "kernelspec": {
   "display_name": "Python 3",
   "language": "python",
   "name": "python3"
  },
  "language_info": {
   "codemirror_mode": {
    "name": "ipython",
    "version": 3
   },
   "file_extension": ".py",
   "mimetype": "text/x-python",
   "name": "python",
   "nbconvert_exporter": "python",
   "pygments_lexer": "ipython3",
   "version": "3.9.12"
  },
  "orig_nbformat": 4
 },
 "nbformat": 4,
 "nbformat_minor": 2
}
