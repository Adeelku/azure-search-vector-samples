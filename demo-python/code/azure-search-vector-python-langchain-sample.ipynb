{
 "cells": [
  {
   "attachments": {},
   "cell_type": "markdown",
   "metadata": {},
   "source": [
    "# Azure AI Search LangChain vector code sample\n",
    "This code demonstrates how to use Azure AI Search with OpenAI and Langchain"
   ]
  },
  {
   "cell_type": "markdown",
   "metadata": {},
   "source": [
    "### Set up a Python virtual environment in Visual Studio Code\n",
    "\n",
    "1. Open the Command Palette (Ctrl+Shift+P).\n",
    "1. Search for **Python: Create Environment**.\n",
    "1. Select **Venv**.\n",
    "1. Select a Python interpreter. Choose 3.10 or later.\n",
    "\n",
    "It can take a minute to set up. If you run into problems, see [Python environments in VS Code](https://code.visualstudio.com/docs/python/environments)."
   ]
  },
  {
   "cell_type": "markdown",
   "metadata": {},
   "source": [
    "### Install packages"
   ]
  },
  {
   "cell_type": "code",
   "execution_count": 1,
   "metadata": {},
   "outputs": [
    {
     "name": "stderr",
     "output_type": "stream",
     "text": [
      "\n",
      "[notice] A new release of pip is available: 23.2.1 -> 24.0\n",
      "[notice] To update, run: python.exe -m pip install --upgrade pip\n"
     ]
    }
   ],
   "source": [
    "! pip install -r azure-search-vector-python-langchain-sample-requirements.txt --quiet"
   ]
  },
  {
   "cell_type": "markdown",
   "metadata": {},
   "source": [
    "### Load .env file (Copy .env-sample to .env and update accordingly)"
   ]
  },
  {
   "cell_type": "code",
   "execution_count": 2,
   "metadata": {},
   "outputs": [],
   "source": [
    "from dotenv import load_dotenv\n",
    "from azure.identity import DefaultAzureCredential\n",
    "import os\n",
    "\n",
    "load_dotenv(override=True) # take environment variables from .env.\n",
    "\n",
    "# Variables not used here do not need to be updated in your .env file\n",
    "endpoint = os.environ[\"AZURE_SEARCH_SERVICE_ENDPOINT\"]\n",
    "key_credential = os.environ[\"AZURE_SEARCH_ADMIN_KEY\"] if len(os.environ[\"AZURE_SEARCH_ADMIN_KEY\"]) > 0 else None\n",
    "index_name = os.environ[\"AZURE_SEARCH_INDEX\"]\n",
    "azure_openai_endpoint = os.environ[\"AZURE_OPENAI_ENDPOINT\"]\n",
    "azure_openai_key = os.environ[\"AZURE_OPENAI_KEY\"] if len(os.environ[\"AZURE_OPENAI_KEY\"]) > 0 else None\n",
    "azure_openai_embedding_deployment = os.environ[\"AZURE_OPENAI_EMBEDDING_DEPLOYMENT\"]\n",
    "azure_openai_api_version = os.environ[\"AZURE_OPENAI_API_VERSION\"]\n",
    "\n",
    "credential = key_credential or DefaultAzureCredential()"
   ]
  },
  {
   "cell_type": "markdown",
   "metadata": {},
   "source": [
    "### Create LangChain Azure OpenAI Embeddings"
   ]
  },
  {
   "cell_type": "code",
   "execution_count": 5,
   "metadata": {},
   "outputs": [],
   "source": [
    "from langchain_openai import AzureOpenAIEmbeddings\n",
    "from azure.identity import DefaultAzureCredential, get_bearer_token_provider\n",
    "\n",
    "openai_credential = DefaultAzureCredential()\n",
    "token_provider = get_bearer_token_provider(openai_credential, \"https://cognitiveservices.azure.com/.default\")\n",
    "\n",
    "# Use API key if provided, otherwise use RBAC authentication\n",
    "embeddings = AzureOpenAIEmbeddings(\n",
    "    azure_deployment=azure_openai_embedding_deployment,\n",
    "    openai_api_version=azure_openai_api_version,\n",
    "    azure_endpoint=azure_openai_endpoint,\n",
    "    api_key=azure_openai_key,\n",
    "    azure_ad_token_provider=token_provider if not azure_openai_key else None\n",
    ")   "
   ]
  },
  {
   "cell_type": "markdown",
   "metadata": {},
   "source": [
    "### Create LangChain Vector Store"
   ]
  },
  {
   "cell_type": "code",
   "execution_count": 6,
   "metadata": {},
   "outputs": [],
   "source": [
    "from langchain.vectorstores.azuresearch import AzureSearch\n",
    "\n",
    "vector_store = AzureSearch(\n",
    "    azure_search_endpoint=endpoint,\n",
    "    azure_search_key=key_credential,\n",
    "    index_name=index_name,\n",
    "    embedding_function=embeddings.embed_query,\n",
    "    semantic_configuration_name=\"default\"\n",
    ")"
   ]
  },
  {
   "cell_type": "code",
   "execution_count": 7,
   "metadata": {},
   "outputs": [
    {
     "name": "stdout",
     "output_type": "stream",
     "text": [
      "Indexed Benefit_Options.pdf\n",
      "Indexed Northwind_Health_Plus_Benefits_Details.pdf\n",
      "Indexed Northwind_Standard_Benefits_Details.pdf\n",
      "Indexed 636 chunks\n"
     ]
    }
   ],
   "source": [
    "from langchain_community.document_loaders import PyPDFLoader\n",
    "from langchain.text_splitter import RecursiveCharacterTextSplitter\n",
    "import os\n",
    "\n",
    "directory = os.path.join(\"..\", \"data\", \"documents\")\n",
    "files = [\"Benefit_Options.pdf\", \"Northwind_Health_Plus_Benefits_Details.pdf\", \"Northwind_Standard_Benefits_Details.pdf\"]\n",
    "total_chunks = 0\n",
    "splitter = RecursiveCharacterTextSplitter(chunk_size=1000, chunk_overlap=0)\n",
    "\n",
    "for file in files:\n",
    "    loader = PyPDFLoader(os.path.join(directory, file))\n",
    "    file_chunks = loader.load_and_split(splitter)\n",
    "    results = vector_store.add_documents(documents=file_chunks)\n",
    "    total_chunks += len(results)\n",
    "    print(f\"Indexed {file}\")\n",
    "print(f\"Indexed {total_chunks} chunks\")"
   ]
  },
  {
   "cell_type": "markdown",
   "metadata": {},
   "source": [
    "## Perform a vector similarity search"
   ]
  },
  {
   "cell_type": "code",
   "execution_count": 8,
   "metadata": {},
   "outputs": [
    {
     "name": "stdout",
     "output_type": "stream",
     "text": [
      "--------------------------------------------------------------------------------\n",
      "Source: ..\\data\\documents\\Northwind_Health_Plus_Benefits_Details.pdf\n",
      "Chunk Content: Specialty Care Services: Northwind  Health Plus covers specialty care services, such as \n",
      "physical therapy, occupational therapy, and mental health services. The plan also covers \n",
      "services provided by specialists, such as cardiologists, endocrinologists, and neurologists.  \n",
      "Exceptions: Northwin d Health Plus does not cover services that are not medically \n",
      "necessary, such as cosmetic surgery, elective treatments, and experimental treatments. In \n",
      "addition, the plan does not cover services for conditions that are not covered by the plan, \n",
      "such as pre -existing conditions.\n",
      "--------------------------------------------------------------------------------\n",
      "Source: ..\\data\\documents\\Northwind_Health_Plus_Benefits_Details.pdf\n",
      "Chunk Content: is important to understand these exclusions so that you can plan your care accordingly.  \n",
      "Services Not Covered:  \n",
      "Northwind Health Plus does not cover services that are not medically necessary, such as \n",
      "cosmetic surgery or elective procedures. Additionally, services or treatments that are \n",
      "experimental or investigational are not covered under this plan.  \n",
      "Prescriptions N ot Covered: The plan does not cover prescriptions that are not medically \n",
      "necessary, certain over -the-counter medications, or prescription medications that are used \n",
      "to enhance performance in athletics.  \n",
      "Mental Health and Substance Abuse Treatment: The plan does not cover mental health or \n",
      "substance abuse treatment services provided by a non -network provider or any services \n",
      "that are not medically necessary.  \n",
      "Preventive Care: Northwind Health Plus does not cover preventive care services provided \n",
      "by a non -network  provider.  \n",
      "Tips for Avoiding Exclusions\n",
      "--------------------------------------------------------------------------------\n",
      "Source: ..\\data\\documents\\Benefit_Options.pdf\n",
      "Chunk Content: Both plans offer coverage for pre scription drugs. Northwind Health Plus offers a wider range of \n",
      "prescription drug coverage than Northwind Standard. Northwind Health Plus covers generic, brand -\n",
      "name, and specialty drugs, while Northwind Standard only covers generic and brand -name drugs. \n",
      "Both plans offer coverage for vision and dental services. Northwind Health Plus offers coverage for vision \n",
      "exams, glasses, and contact lenses, as well as dental exams, cleanings, and fillings. Northwind Standard \n",
      "only offers coverage for vision exams and glas ses. \n",
      "Both plans offer coverage for medical services. Northwind Health Plus offers coverage for hospital stays, \n",
      "doctor visits, lab tests, and X -rays. Northwind Standard only offers coverage for doctor visits and lab \n",
      "tests. \n",
      "Northwind Health Plus is a compr ehensive plan that offers more coverage than Northwind Standard. \n",
      "Northwind Health Plus offers coverage for emergency services, mental health and substance abuse\n"
     ]
    }
   ],
   "source": [
    "# Perform a similarity search\n",
    "docs = vector_store.similarity_search(\n",
    "    \"What is included in my Northwind Health Plus plan that is not in standard?\",\n",
    "    k=3,\n",
    "    search_type=\"similarity\",\n",
    ")\n",
    "for doc in docs:\n",
    "    print(\"-\" * 80)  \n",
    "    print(f\"Source: {doc.metadata['source']}\")\n",
    "    print(f\"Chunk Content: {doc.page_content}\")"
   ]
  },
  {
   "cell_type": "markdown",
   "metadata": {},
   "source": [
    "## Perform a hybrid search"
   ]
  },
  {
   "cell_type": "code",
   "execution_count": 9,
   "metadata": {},
   "outputs": [
    {
     "name": "stdout",
     "output_type": "stream",
     "text": [
      "--------------------------------------------------------------------------------\n",
      "Source: ..\\data\\documents\\Northwind_Health_Plus_Benefits_Details.pdf\n",
      "Chunk Content: is important to understand these exclusions so that you can plan your care accordingly.  \n",
      "Services Not Covered:  \n",
      "Northwind Health Plus does not cover services that are not medically necessary, such as \n",
      "cosmetic surgery or elective procedures. Additionally, services or treatments that are \n",
      "experimental or investigational are not covered under this plan.  \n",
      "Prescriptions N ot Covered: The plan does not cover prescriptions that are not medically \n",
      "necessary, certain over -the-counter medications, or prescription medications that are used \n",
      "to enhance performance in athletics.  \n",
      "Mental Health and Substance Abuse Treatment: The plan does not cover mental health or \n",
      "substance abuse treatment services provided by a non -network provider or any services \n",
      "that are not medically necessary.  \n",
      "Preventive Care: Northwind Health Plus does not cover preventive care services provided \n",
      "by a non -network  provider.  \n",
      "Tips for Avoiding Exclusions\n",
      "--------------------------------------------------------------------------------\n",
      "Source: ..\\data\\documents\\Benefit_Options.pdf\n",
      "Chunk Content: Both plans offer coverage for pre scription drugs. Northwind Health Plus offers a wider range of \n",
      "prescription drug coverage than Northwind Standard. Northwind Health Plus covers generic, brand -\n",
      "name, and specialty drugs, while Northwind Standard only covers generic and brand -name drugs. \n",
      "Both plans offer coverage for vision and dental services. Northwind Health Plus offers coverage for vision \n",
      "exams, glasses, and contact lenses, as well as dental exams, cleanings, and fillings. Northwind Standard \n",
      "only offers coverage for vision exams and glas ses. \n",
      "Both plans offer coverage for medical services. Northwind Health Plus offers coverage for hospital stays, \n",
      "doctor visits, lab tests, and X -rays. Northwind Standard only offers coverage for doctor visits and lab \n",
      "tests. \n",
      "Northwind Health Plus is a compr ehensive plan that offers more coverage than Northwind Standard. \n",
      "Northwind Health Plus offers coverage for emergency services, mental health and substance abuse\n",
      "--------------------------------------------------------------------------------\n",
      "Source: ..\\data\\documents\\Northwind_Health_Plus_Benefits_Details.pdf\n",
      "Chunk Content: Specialty Care Services: Northwind  Health Plus covers specialty care services, such as \n",
      "physical therapy, occupational therapy, and mental health services. The plan also covers \n",
      "services provided by specialists, such as cardiologists, endocrinologists, and neurologists.  \n",
      "Exceptions: Northwin d Health Plus does not cover services that are not medically \n",
      "necessary, such as cosmetic surgery, elective treatments, and experimental treatments. In \n",
      "addition, the plan does not cover services for conditions that are not covered by the plan, \n",
      "such as pre -existing conditions.\n"
     ]
    }
   ],
   "source": [
    "# Perform a hybrid search\n",
    "docs = vector_store.similarity_search(\n",
    "    query=\"What is included in my Northwind Health Plus plan that is not in standard?\",\n",
    "    k=3, \n",
    "    search_type=\"hybrid\"\n",
    ")\n",
    "for doc in docs:\n",
    "    print(\"-\" * 80)  \n",
    "    print(f\"Source: {doc.metadata['source']}\")\n",
    "    print(f\"Chunk Content: {doc.page_content}\")"
   ]
  },
  {
   "cell_type": "markdown",
   "metadata": {},
   "source": [
    "## Perform a hybrid search with semantic reranking (powered by Bing)"
   ]
  },
  {
   "cell_type": "code",
   "execution_count": 10,
   "metadata": {},
   "outputs": [
    {
     "name": "stdout",
     "output_type": "stream",
     "text": [
      "--------------------------------------------------------------------------------\n",
      "Content: is important to understand these exclusions so that you can plan your care accordingly.  \n",
      "Services Not Covered:  \n",
      "Northwind Health Plus does not cover services that are not medically necessary, such as \n",
      "cosmetic surgery or elective procedures. Additionally, services or treatments that are \n",
      "experimental or investigational are not covered under this plan.  \n",
      "Prescriptions N ot Covered: The plan does not cover prescriptions that are not medically \n",
      "necessary, certain over -the-counter medications, or prescription medications that are used \n",
      "to enhance performance in athletics.  \n",
      "Mental Health and Substance Abuse Treatment: The plan does not cover mental health or \n",
      "substance abuse treatment services provided by a non -network provider or any services \n",
      "that are not medically necessary.  \n",
      "Preventive Care: Northwind Health Plus does not cover preventive care services provided \n",
      "by a non -network  provider.  \n",
      "Tips for Avoiding Exclusions\n",
      "Score: 0.021343937143683434\n",
      "Caption: is important to understand these exclusions so that you can plan your care accordingly.<em> Services Not</em> Covered:<em>   Northwind Health Plus does not</em> cover services that are not medically necessary, such as  cosmetic surgery or elective procedures.\n",
      "--------------------------------------------------------------------------------\n",
      "Content: Your coverage for skilled nursing facility care is limited to a maximum of 100 days. In order \n",
      "to continue to receive benefits, you must make measurable progress toward a goal that is \n",
      "established by your doctor.  \n",
      "What Are the Exceptions to Skilled Nursing Fa cility Care Coverage?  \n",
      "Not all skilled nursing facility services are covered under Northwind Standard. The plan \n",
      "does not cover custodial care or services that are not medically necessary. Custodial care \n",
      "includes services that are provided to help you with a ctivities of daily living such as bathing, \n",
      "dressing, and other basic care.  \n",
      "Other exceptions to coverage include services provided in an assisted living facility, a \n",
      "hospice, or in the home.  \n",
      "Tips for Getting the Most Out of Your Skilled Nursing Facility Care  \n",
      "• Make sure to communicate with your doctor and the skilled nursing facility staff about \n",
      "your progress and treatment plan.  \n",
      "• Ask questions about any treatments or services that you are unfamiliar with.\n",
      "Score: 0.012987012974917889\n",
      "Caption: Not all skilled nursing facility services are covered under Northwind Standard. The plan  does not cover<em> custodial care</em> or services that are not medically necessary. Custodial care  includes services that are provided to help you with a ctivities of daily living such as bathing,  dressing, and other basic care.\n",
      "--------------------------------------------------------------------------------\n",
      "Content: physical, mental, and social well -being.  \n",
      "What is Covered under the Northwind Health Plus Plan?  \n",
      "The Northwind Health Plus plan covers a wide range of services related to the treatment of \n",
      "SUD. These services include inpatient and outpatient treatment, counseling, and \n",
      "medications to help with recovery. It also covers mental health services and support for \n",
      "family members of those with SUD.  \n",
      "Exceptions  \n",
      "Not all services related to SUD are covered by the Northwind Health Plus plan. For  example, \n",
      "the plan does not cover experimental treatments or services that are not medically \n",
      "necessary. It also does not cover services provided by non -network providers.  \n",
      "Tips for Employees  \n",
      "If you or someone you care about is struggling with SUD, there a re a few things you can do \n",
      "to get the most out of your Northwind Health Plus plan:  \n",
      "• Talk to your doctor or a mental health professional about your symptoms and the \n",
      "treatments that may be available.\n",
      "Score: 0.011111111380159855\n",
      "Caption: The Northwind Health Plus plan covers a wide range of services related to the treatment of  SUD. These services include inpatient and<em> outpatient treatment, counseling,</em> and<em>  medications</em> to help with recovery. It also covers mental health services and support for  family members of those with SUD.\n"
     ]
    }
   ],
   "source": [
    "# Perform a hybrid search with semantic reranking  \n",
    "docs_and_scores = vector_store.semantic_hybrid_search_with_score(  \n",
    "    query=\"What is included in my Northwind Health Plus plan that is not in standard?\",  \n",
    "    k=3,  \n",
    ")  \n",
    "  \n",
    "# Print the results  \n",
    "for doc, score in docs_and_scores:  \n",
    "    print(\"-\" * 80)  \n",
    "    answers = doc.metadata['answers']  \n",
    "    if answers:  \n",
    "        if answers.get('highlights'):  \n",
    "            print(f\"Semantic Answer: {answers['highlights']}\")  \n",
    "        else:  \n",
    "            print(f\"Semantic Answer: {answers['text']}\")  \n",
    "        print(f\"Semantic Answer Score: {score}\")  \n",
    "    print(\"Content:\", doc.page_content)  \n",
    "    captions = doc.metadata['captions']\n",
    "    print(f\"Score: {score}\") \n",
    "    if captions:  \n",
    "        if captions.get('highlights'):  \n",
    "            print(f\"Caption: {captions['highlights']}\")  \n",
    "        else:  \n",
    "            print(f\"Caption: {captions['text']}\")  \n",
    "    else:  \n",
    "        print(\"Caption not available\")  \n"
   ]
  }
 ],
 "metadata": {
  "kernelspec": {
   "display_name": "Python 3",
   "language": "python",
   "name": "python3"
  },
  "language_info": {
   "codemirror_mode": {
    "name": "ipython",
    "version": 3
   },
   "file_extension": ".py",
   "mimetype": "text/x-python",
   "name": "python",
   "nbconvert_exporter": "python",
   "pygments_lexer": "ipython3",
   "version": "3.11.7"
  },
  "orig_nbformat": 4
 },
 "nbformat": 4,
 "nbformat_minor": 2
}
