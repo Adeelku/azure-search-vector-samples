{
 "cells": [
  {
   "cell_type": "code",
   "execution_count": null,
   "metadata": {},
   "outputs": [],
   "source": [
    "# install packages\n",
    "! pip install openai\n",
    "! pip install python-dotenv\n",
    "! pip install semantic-kernel\n"
   ]
  },
  {
   "cell_type": "code",
   "execution_count": null,
   "metadata": {},
   "outputs": [],
   "source": [
    "# import libraries\n",
    "import requests\n",
    "import json\n",
    "import os\n",
    "import semantic_kernel as sk\n",
    "\n",
    "from semantic_kernel.ai.open_ai import AzureTextEmbedding\n",
    "from dotenv import load_dotenv\n",
    "# Load environment variables from .env file\n",
    "load_dotenv()\n"
   ]
  },
  {
   "cell_type": "markdown",
   "metadata": {},
   "source": [
    "## Setup the Semantic Kernel"
   ]
  },
  {
   "cell_type": "code",
   "execution_count": 80,
   "metadata": {},
   "outputs": [],
   "source": [
    "kernel = sk.Kernel()\n",
    "_, api_key, endpoint = sk.azure_openai_settings_from_dot_env()\n",
    "kernel.config.add_embedding_backend(\"ada\", AzureTextEmbedding(\n",
    "    \"text-embedding-ada-002\", endpoint, api_key))\n",
    "kernel.register_memory_store(memory_store=sk.memory.VolatileMemoryStore())\n"
   ]
  },
  {
   "cell_type": "code",
   "execution_count": 82,
   "metadata": {},
   "outputs": [],
   "source": [
    "# Read the text-sample.json\n",
    "with open('../data/text-sample.json', 'r', encoding='utf-8') as file:\n",
    "    input_data = json.load(file)\n"
   ]
  },
  {
   "attachments": {},
   "cell_type": "markdown",
   "metadata": {},
   "source": [
    "## Create embeddings and structure input data format for Azure Cognitive Search"
   ]
  },
  {
   "cell_type": "code",
   "execution_count": null,
   "metadata": {},
   "outputs": [],
   "source": [
    "for item in input_data:\n",
    "    title = item['title']\n",
    "    content = item['content']\n",
    "    title_embeddings = await kernel.memory._embeddings_generator.generate_embeddings_async([title])\n",
    "    content_embeddings = await kernel.memory._embeddings_generator.generate_embeddings_async([content])\n",
    "    item['titleVector'] = list(title_embeddings[0])\n",
    "    item['contentVector'] = list(content_embeddings[0])\n",
    "    item['@search.action'] = 'upload'\n"
   ]
  },
  {
   "cell_type": "code",
   "execution_count": 85,
   "metadata": {},
   "outputs": [],
   "source": [
    "# Output embeddings to docVectors.json file\n",
    "with open(\"../output/sk_docVectors.json\", \"w\") as f:\n",
    "    json.dump(input_data, f)\n"
   ]
  },
  {
   "cell_type": "code",
   "execution_count": 86,
   "metadata": {},
   "outputs": [],
   "source": [
    "# Generate a query embedding\n",
    "ask = \"what is Azure Cognitive Search\"\n",
    "embedding = await kernel.memory._embeddings_generator.generate_embeddings_async([ask])\n"
   ]
  },
  {
   "cell_type": "code",
   "execution_count": null,
   "metadata": {},
   "outputs": [],
   "source": [
    "# Output embeddings to queryVector.json file\n",
    "with open(\"../output/sk_queryVector.json\", \"w\") as f:\n",
    "    json.dump(list(embedding[0]), f)\n",
    "\n",
    "print(embedding)\n"
   ]
  },
  {
   "attachments": {},
   "cell_type": "markdown",
   "metadata": {},
   "source": [
    "# Azure Cognitive Search Setup"
   ]
  },
  {
   "cell_type": "code",
   "execution_count": 88,
   "metadata": {},
   "outputs": [],
   "source": [
    "# TODO: fill in your cognitive search name\n",
    "cognitive_search_name = os.getenv(\"AZURE_SEARCH_SERVICE_NAME\")\n",
    "# TODO: fill in your cognitive search index name\n",
    "index_name = os.getenv(\"AZURE_SEARCH_SERVICE_INDEX_NAME\")\n",
    "# TODO: fill in your api key with your cognitive search admin key\n",
    "api_key = os.getenv(\"AZURE_SEARCH_SERVICE_ADMIN_KEY\")\n",
    "create_index_url = f\"https://{cognitive_search_name}.search.windows.net/indexes/{index_name}?api-version=2023-07-01-Preview\"\n",
    "insert_entries_url = f\"https://{cognitive_search_name}.search.windows.net/indexes/{index_name}/docs/index?api-version=2023-07-01-Preview\"\n",
    "search_url = f\"https://{cognitive_search_name}.search.windows.net/indexes/{index_name}/docs/search?api-version=2023-07-01-Preview\"\n"
   ]
  },
  {
   "cell_type": "code",
   "execution_count": 89,
   "metadata": {},
   "outputs": [
    {
     "name": "stdout",
     "output_type": "stream",
     "text": [
      "Embedding length: 1536\n"
     ]
    }
   ],
   "source": [
    "EMBEDDING_LENGTH = len(embedding[0])\n",
    "print(\"Embedding length: {}\".format(EMBEDDING_LENGTH))\n"
   ]
  },
  {
   "cell_type": "markdown",
   "metadata": {},
   "source": [
    "## Create Index"
   ]
  },
  {
   "cell_type": "code",
   "execution_count": null,
   "metadata": {},
   "outputs": [],
   "source": [
    "# TODO: change the dimensions in payload to 1536 (if using ada-embeddings)\n",
    "\n",
    "payload = json.dumps({\n",
    "    \"name\": index_name,\n",
    "    \"fields\": [\n",
    "        {\n",
    "            \"name\": \"id\",\n",
    "            \"type\": \"Edm.String\",\n",
    "            \"key\": True,\n",
    "            \"filterable\": True\n",
    "        },\n",
    "        {\n",
    "            \"name\": \"title\",\n",
    "            \"type\": \"Edm.String\",\n",
    "            \"searchable\": True,\n",
    "            \"retrievable\": True\n",
    "        },\n",
    "        {\n",
    "            \"name\": \"content\",\n",
    "            \"type\": \"Edm.String\",\n",
    "            \"searchable\": True,\n",
    "            \"retrievable\": True\n",
    "        },\n",
    "        {\n",
    "            \"name\": \"category\",\n",
    "            \"type\": \"Edm.String\",\n",
    "            \"filterable\": True,\n",
    "            \"searchable\": True,\n",
    "            \"retrievable\": True\n",
    "        },\n",
    "        {\n",
    "            \"name\": \"titleVector\",\n",
    "            \"type\": \"Collection(Edm.Single)\",\n",
    "            \"searchable\": True,\n",
    "            \"retrievable\": True,\n",
    "            \"dimensions\": EMBEDDING_LENGTH,\n",
    "            \"algorithmConfiguration\": \"my-vector-config\"\n",
    "        },\n",
    "        {\n",
    "            \"name\": \"contentVector\",\n",
    "            \"type\": \"Collection(Edm.Single)\",\n",
    "            \"searchable\": True,\n",
    "            \"retrievable\": True,\n",
    "            \"dimensions\": EMBEDDING_LENGTH,\n",
    "            \"algorithmConfiguration\": \"my-vector-config\"\n",
    "        }\n",
    "    ],\n",
    "    \"vectorSearch\": {\n",
    "        \"algorithmConfigurations\": [\n",
    "            {\n",
    "                \"name\": \"my-vector-config\",\n",
    "                \"algorithm\": \"hnsw\",\n",
    "                \"hnswParameters\": {\n",
    "                    \"m\": 4,\n",
    "                    \"efConstruction\": 400,\n",
    "                    \"metric\": \"cosine\"\n",
    "                }\n",
    "            }\n",
    "        ]\n",
    "    },\n",
    "    \"semantic\": {\n",
    "        \"configurations\": [\n",
    "            {\n",
    "                \"name\": \"my-semantic-config\",\n",
    "                \"prioritizedFields\": {\n",
    "                    \"titleField\": {\n",
    "                        \"fieldName\": \"title\"\n",
    "                    },\n",
    "                    \"prioritizedContentFields\": [\n",
    "                        {\n",
    "                            \"fieldName\": \"content\"\n",
    "                        }\n",
    "                    ],\n",
    "                    \"prioritizedKeywordsFields\": [\n",
    "                        {\n",
    "                            \"fieldName\": \"category\"\n",
    "                        }\n",
    "                    ]\n",
    "                }\n",
    "            }\n",
    "        ]\n",
    "    }\n",
    "})\n",
    "headers = {\n",
    "    'Content-Type': 'application/json',\n",
    "    'api-key': api_key\n",
    "}\n",
    "\n",
    "response = requests.request(\"PUT\", create_index_url,\n",
    "                            headers=headers, data=payload)\n",
    "\n",
    "print(response.status_code)\n"
   ]
  },
  {
   "attachments": {},
   "cell_type": "markdown",
   "metadata": {},
   "source": [
    "## Insert Documents"
   ]
  },
  {
   "cell_type": "code",
   "execution_count": null,
   "metadata": {},
   "outputs": [],
   "source": [
    "with open(\"../output/sk_docVectors.json\") as f:\n",
    "    data = json.load(f)\n",
    "\n",
    "payload = {\n",
    "    \"value\": data\n",
    "}\n",
    "\n",
    "headers = {\n",
    "    'Content-Type': 'application/json',\n",
    "    'api-key': api_key,\n",
    "}\n",
    "\n",
    "response = requests.request(\n",
    "    \"POST\", insert_entries_url, headers=headers, json=payload)\n",
    "\n",
    "print(response.text)\n",
    "print(response.status_code)\n"
   ]
  },
  {
   "attachments": {},
   "cell_type": "markdown",
   "metadata": {},
   "source": [
    "## Vector Searches"
   ]
  },
  {
   "cell_type": "code",
   "execution_count": null,
   "metadata": {},
   "outputs": [],
   "source": [
    "payload = json.dumps({\n",
    "    \"vector\": {\n",
    "        \"value\": list(embedding[0]),\n",
    "        \"fields\": \"contentVector\",\n",
    "        \"k\": 1\n",
    "    }\n",
    "})\n",
    "headers = {\n",
    "    'Content-Type': 'application/json',\n",
    "    'api-key': api_key,\n",
    "}\n",
    "\n",
    "response = requests.request(\"POST\", search_url, headers=headers, data=payload)\n",
    "\n",
    "print(response.text)\n",
    "print(response.status_code)\n"
   ]
  }
 ],
 "metadata": {
  "kernelspec": {
   "display_name": "Python 3 (ipykernel)",
   "language": "python",
   "name": "python3"
  },
  "language_info": {
   "codemirror_mode": {
    "name": "ipython",
    "version": 3
   },
   "file_extension": ".py",
   "mimetype": "text/x-python",
   "name": "python",
   "nbconvert_exporter": "python",
   "pygments_lexer": "ipython3",
   "version": "3.9.12"
  },
  "vscode": {
   "interpreter": {
    "hash": "cb03a14a37979806ce23e33360b17165bb15ff625b551094b9c9803860d0df63"
   }
  }
 },
 "nbformat": 4,
 "nbformat_minor": 2
}
