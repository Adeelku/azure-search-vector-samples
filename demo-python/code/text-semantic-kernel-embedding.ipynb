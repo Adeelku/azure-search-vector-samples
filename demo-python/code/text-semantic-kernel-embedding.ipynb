{
 "cells": [
  {
   "cell_type": "code",
   "execution_count": null,
   "metadata": {},
   "outputs": [],
   "source": [
    "# # import packages\n",
    "! pip install openai\n",
    "! pip install python-dotenv\n",
    "! pip install semantic-kernel"
   ]
  },
  {
   "cell_type": "code",
   "execution_count": 1,
   "metadata": {},
   "outputs": [],
   "source": [
    "# import libraries \n",
    "import requests\n",
    "import json\n",
    "import semantic_kernel as sk\n",
    "\n",
    "from semantic_kernel.ai.open_ai import AzureTextEmbedding"
   ]
  },
  {
   "cell_type": "markdown",
   "metadata": {},
   "source": [
    "## Setup the Semantic Kernel"
   ]
  },
  {
   "cell_type": "code",
   "execution_count": null,
   "metadata": {},
   "outputs": [],
   "source": [
    "kernel = sk.Kernel()\n",
    "_, api_key, endpoint = sk.azure_openai_settings_from_dot_env()\n",
    "kernel.config.add_embedding_backend(\"ada\", AzureTextEmbedding(\"text-embedding-ada-002\", endpoint, api_key))\n",
    "kernel.register_memory_store(memory_store=sk.memory.VolatileMemoryStore())"
   ]
  },
  {
   "cell_type": "code",
   "execution_count": 15,
   "metadata": {},
   "outputs": [],
   "source": [
    "# Read the text-sample.json\n",
    "with open('../data/text-sample.json', 'r', encoding='utf-8') as file:\n",
    "    input_data = json.load(file)"
   ]
  },
  {
   "cell_type": "markdown",
   "metadata": {},
   "source": [
    "## Create embeddings and structure input data format for Azure Search"
   ]
  },
  {
   "cell_type": "code",
   "execution_count": 17,
   "metadata": {},
   "outputs": [],
   "source": [
    "for item in input_data:\n",
    "    title = item['title']\n",
    "    content = item['content']\n",
    "    title_embeddings = await kernel.memory._embeddings_generator.generate_embeddings_async([title])\n",
    "    content_embeddings = await kernel.memory._embeddings_generator.generate_embeddings_async([content])\n",
    "    item['titleVector'] = list(title_embeddings[0])\n",
    "    item['contentVector'] = list(content_embeddings[0])\n",
    "    item['@search.action'] = 'upload'"
   ]
  },
  {
   "cell_type": "code",
   "execution_count": 18,
   "metadata": {},
   "outputs": [],
   "source": [
    "# Output embeddings to docVectors.json file\n",
    "with open(\"../output/sk_docVectors.json\", \"w\") as f:\n",
    "    json.dump(input_data, f)"
   ]
  },
  {
   "cell_type": "code",
   "execution_count": 21,
   "metadata": {},
   "outputs": [],
   "source": [
    "# Generate a query embedding\n",
    "ask = \"what is Azure Search\"\n",
    "embedding = await kernel.memory._embeddings_generator.generate_embeddings_async([ask])"
   ]
  },
  {
   "cell_type": "code",
   "execution_count": 25,
   "metadata": {},
   "outputs": [
    {
     "name": "stdout",
     "output_type": "stream",
     "text": [
      "[[-0.00343422 -0.01066914  0.03192004 ...  0.00686359  0.01894039\n",
      "   0.00243186]]\n"
     ]
    }
   ],
   "source": [
    "# Output embeddings to queryVector.json file\n",
    "with open(\"../output/sk_queryVector.json\", \"w\") as f:\n",
    "    json.dump(list(embedding[0]), f)\n",
    "\n",
    "print(embedding)"
   ]
  },
  {
   "cell_type": "markdown",
   "metadata": {},
   "source": [
    "# Azure Search Setup"
   ]
  },
  {
   "cell_type": "code",
   "execution_count": null,
   "metadata": {},
   "outputs": [],
   "source": [
    "cognitive_search_name = \"\" #TODO: fill in your cognitive search name\n",
    "index_name = \"\" #TODO: fill in your index name\n",
    "api_key = \"\" #TODO: fill in your api key with admin key\n",
    "url = f\"https://{cognitive_search_name}.search.windows.net/indexes/{index_name}/docs/index?api-version=2023-07-01-Preview\""
   ]
  },
  {
   "cell_type": "code",
   "execution_count": 30,
   "metadata": {},
   "outputs": [
    {
     "name": "stdout",
     "output_type": "stream",
     "text": [
      "Embedding length: 1536\n"
     ]
    }
   ],
   "source": [
    "EMBEDDING_LENGTH = len(embedding[0])\n",
    "print(\"Embedding length: {}\".format(EMBEDDING_LENGTH))"
   ]
  },
  {
   "cell_type": "markdown",
   "metadata": {},
   "source": [
    "## Create Index"
   ]
  },
  {
   "cell_type": "code",
   "execution_count": null,
   "metadata": {},
   "outputs": [],
   "source": [
    "#TODO: change the dimensions in payload to 1536 (if using ada-embeddings)\n",
    "\n",
    "payload = json.dumps({\n",
    "  \"name\": index_name,\n",
    "  \"fields\": [\n",
    "    {\n",
    "      \"name\": \"id\",\n",
    "      \"type\": \"Edm.String\",\n",
    "      \"key\": True,\n",
    "      \"filterable\": True\n",
    "    },\n",
    "    {\n",
    "      \"name\": \"title\",\n",
    "      \"type\": \"Edm.String\",\n",
    "      \"searchable\": True,\n",
    "      \"retrievable\": True\n",
    "    },\n",
    "    {\n",
    "      \"name\": \"content\",\n",
    "      \"type\": \"Edm.String\",\n",
    "      \"searchable\": True,\n",
    "      \"retrievable\": True\n",
    "    },\n",
    "    {\n",
    "      \"name\": \"category\",\n",
    "      \"type\": \"Edm.String\",\n",
    "      \"filterable\": True,\n",
    "      \"searchable\": True,\n",
    "      \"retrievable\": True\n",
    "    },\n",
    "    {\n",
    "      \"name\": \"contentVector\",\n",
    "      \"type\": \"Collection(Edm.Single)\",\n",
    "      \"searchable\": True,\n",
    "      \"retrievable\": True,\n",
    "      \"dimensions\": EMBEDDING_LENGTH,\n",
    "      \"algorithmConfiguration\": \"my-vector-config\"\n",
    "    }\n",
    "  ],\n",
    "  \"vectorSearch\": {\n",
    "    \"algorithmConfigurations\": [\n",
    "      {\n",
    "        \"name\": \"my-vector-config\",\n",
    "        \"algorithm\": \"hnsw\",\n",
    "        \"hnswParameters\": {\n",
    "          \"m\": 4,\n",
    "          \"efConstruction\": 400,\n",
    "          \"metric\": \"cosine\"\n",
    "        }\n",
    "      }\n",
    "    ]\n",
    "  },\n",
    "  \"semantic\": {\n",
    "    \"configurations\": [\n",
    "      {\n",
    "        \"name\": \"my-semantic-config\",\n",
    "        \"prioritizedFields\": {\n",
    "          \"titleField\": {\n",
    "            \"fieldName\": \"title\"\n",
    "          },\n",
    "          \"prioritizedContentFields\": [\n",
    "            {\n",
    "              \"fieldName\": \"content\"\n",
    "            }\n",
    "          ],\n",
    "          \"prioritizedKeywordsFields\": [\n",
    "            {\n",
    "              \"fieldName\": \"category\"\n",
    "            }\n",
    "          ]\n",
    "        }\n",
    "      }\n",
    "    ]\n",
    "  }\n",
    "})\n",
    "headers = {\n",
    "  'Content-Type': 'application/json',\n",
    "  'api-key': api_key\n",
    "}\n",
    "\n",
    "response = requests.request(\"PUT\", url, headers=headers, data=payload)\n",
    "\n",
    "print(response.text)"
   ]
  },
  {
   "cell_type": "markdown",
   "metadata": {},
   "source": [
    "## Insert Entries"
   ]
  },
  {
   "cell_type": "code",
   "execution_count": null,
   "metadata": {},
   "outputs": [],
   "source": [
    "payload = json.loads(\"../output/sk_docVectors.json\"\")\n",
    "\n",
    "headers = {\n",
    "  'Content-Type': 'application/json',\n",
    "  'api-key': api_key,\n",
    "}\n",
    "\n",
    "response = requests.request(\"POST\", url, headers=headers, data=payload)\n",
    "\n",
    "print(response.text)\n",
    "print(response.status_code)"
   ]
  },
  {
   "cell_type": "markdown",
   "metadata": {},
   "source": [
    "## Retrieve Entries"
   ]
  },
  {
   "cell_type": "code",
   "execution_count": null,
   "metadata": {},
   "outputs": [],
   "source": [
    "payload = json.dumps({\n",
    "  \"vector\": {\n",
    "    \"value\": list(embedding[0]),\n",
    "    \"fields\": \"contentVector\",\n",
    "    \"k\": 1\n",
    "  }\n",
    "})\n",
    "headers = {\n",
    "  'Content-Type': 'application/json',\n",
    "  'api-key': api_key,\n",
    "}\n",
    "\n",
    "response = requests.request(\"POST\", url, headers=headers, data=payload)\n",
    "\n",
    "print(response.text)\n",
    "print(response.status_code)"
   ]
  }
 ],
 "metadata": {
  "kernelspec": {
   "display_name": "Python 3 (ipykernel)",
   "language": "python",
   "name": "python3"
  },
  "language_info": {
   "codemirror_mode": {
    "name": "ipython",
    "version": 3
   },
   "file_extension": ".py",
   "mimetype": "text/x-python",
   "name": "python",
   "nbconvert_exporter": "python",
   "pygments_lexer": "ipython3",
   "version": "3.9.12"
  },
  "vscode": {
   "interpreter": {
    "hash": "cb03a14a37979806ce23e33360b17165bb15ff625b551094b9c9803860d0df63"
   }
  }
 },
 "nbformat": 4,
 "nbformat_minor": 2
}
